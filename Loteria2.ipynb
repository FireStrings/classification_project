{
 "cells": [
  {
   "cell_type": "code",
   "execution_count": 1,
   "metadata": {},
   "outputs": [],
   "source": [
    "import pandas as pd\n",
    "import numpy as np\n",
    "import collections\n",
    "import seaborn as sns\n",
    "%matplotlib inline\n",
    "from matplotlib import pyplot as plt\n",
    "import matplotlib.ticker as ticker\n",
    "pd.set_option('display.max_rows', 500)"
   ]
  },
  {
   "cell_type": "code",
   "execution_count": 2,
   "metadata": {},
   "outputs": [],
   "source": [
    "data2 = pd.read_csv(\"../../data/mega_2483.csv\", sep=\";\")"
   ]
  },
  {
   "cell_type": "code",
   "execution_count": 3,
   "metadata": {},
   "outputs": [
    {
     "data": {
      "text/html": [
       "<div>\n",
       "<style scoped>\n",
       "    .dataframe tbody tr th:only-of-type {\n",
       "        vertical-align: middle;\n",
       "    }\n",
       "\n",
       "    .dataframe tbody tr th {\n",
       "        vertical-align: top;\n",
       "    }\n",
       "\n",
       "    .dataframe thead th {\n",
       "        text-align: right;\n",
       "    }\n",
       "</style>\n",
       "<table border=\"1\" class=\"dataframe\">\n",
       "  <thead>\n",
       "    <tr style=\"text-align: right;\">\n",
       "      <th></th>\n",
       "      <th>Concurso</th>\n",
       "      <th>Data</th>\n",
       "      <th>bola 1</th>\n",
       "      <th>bola 2</th>\n",
       "      <th>bola 3</th>\n",
       "      <th>bola 4</th>\n",
       "      <th>bola 5</th>\n",
       "      <th>bola 6</th>\n",
       "    </tr>\n",
       "  </thead>\n",
       "  <tbody>\n",
       "    <tr>\n",
       "      <th>0</th>\n",
       "      <td>2483</td>\n",
       "      <td>21/05/2022</td>\n",
       "      <td>54</td>\n",
       "      <td>49</td>\n",
       "      <td>34</td>\n",
       "      <td>38</td>\n",
       "      <td>40</td>\n",
       "      <td>20</td>\n",
       "    </tr>\n",
       "    <tr>\n",
       "      <th>1</th>\n",
       "      <td>2482</td>\n",
       "      <td>18/05/2022</td>\n",
       "      <td>32</td>\n",
       "      <td>1</td>\n",
       "      <td>57</td>\n",
       "      <td>44</td>\n",
       "      <td>35</td>\n",
       "      <td>45</td>\n",
       "    </tr>\n",
       "    <tr>\n",
       "      <th>2</th>\n",
       "      <td>2481</td>\n",
       "      <td>14/05/2022</td>\n",
       "      <td>1</td>\n",
       "      <td>37</td>\n",
       "      <td>36</td>\n",
       "      <td>21</td>\n",
       "      <td>8</td>\n",
       "      <td>27</td>\n",
       "    </tr>\n",
       "    <tr>\n",
       "      <th>3</th>\n",
       "      <td>2480</td>\n",
       "      <td>11/05/2022</td>\n",
       "      <td>31</td>\n",
       "      <td>56</td>\n",
       "      <td>6</td>\n",
       "      <td>4</td>\n",
       "      <td>50</td>\n",
       "      <td>9</td>\n",
       "    </tr>\n",
       "    <tr>\n",
       "      <th>4</th>\n",
       "      <td>2479</td>\n",
       "      <td>07/05/2022</td>\n",
       "      <td>21</td>\n",
       "      <td>10</td>\n",
       "      <td>35</td>\n",
       "      <td>20</td>\n",
       "      <td>17</td>\n",
       "      <td>15</td>\n",
       "    </tr>\n",
       "  </tbody>\n",
       "</table>\n",
       "</div>"
      ],
      "text/plain": [
       "   Concurso        Data  bola 1  bola 2  bola 3  bola 4  bola 5  bola 6\n",
       "0      2483  21/05/2022      54      49      34      38      40      20\n",
       "1      2482  18/05/2022      32       1      57      44      35      45\n",
       "2      2481  14/05/2022       1      37      36      21       8      27\n",
       "3      2480  11/05/2022      31      56       6       4      50       9\n",
       "4      2479  07/05/2022      21      10      35      20      17      15"
      ]
     },
     "execution_count": 3,
     "metadata": {},
     "output_type": "execute_result"
    }
   ],
   "source": [
    "data2.head()"
   ]
  },
  {
   "cell_type": "code",
   "execution_count": 4,
   "metadata": {},
   "outputs": [
    {
     "data": {
      "image/png": "[encoded data removed]",
      "text/plain": [
       "<Figure size 1080x1800 with 6 Axes>"
      ]
     },
     "metadata": {
      "needs_background": "light"
     },
     "output_type": "display_data"
    }
   ],
   "source": [
    "i = 1\n",
    "plt.figure(figsize = (15,25))\n",
    "for feature in data2[[\"bola 1\", \"bola 2\", \"bola 3\", \"bola 4\", \"bola 5\", \"bola 6\"]]:\n",
    "    plt.subplot(6,3,i)\n",
    "    data2[feature].hist()\n",
    "#     sns.countplot(x = feature ,  data = data)\n",
    "    i +=1"
   ]
  },
  {
   "cell_type": "code",
   "execution_count": null,
   "metadata": {},
   "outputs": [],
   "source": []
  },
  {
   "cell_type": "code",
   "execution_count": 5,
   "metadata": {},
   "outputs": [],
   "source": [
    "l_bolas = []\n",
    "\n",
    "for bola in data2[[x for x in data2.columns if x.startswith(\"bola\")]]: \n",
    "    df_bola_x = data2[[\"Concurso\", bola]].sort_values(by=\"Concurso\").reset_index().drop(\"index\", axis=1)\n",
    "   \n",
    "    for i in range(1, 61):\n",
    "        indexes = df_bola_x[df_bola_x[bola] == i].index.tolist()\n",
    "    \n",
    "        for g in indexes:        \n",
    "            df_bola_x.at[g,'diff_' + bola] = None\n",
    "\n",
    "\n",
    "        for j, k in enumerate(indexes):\n",
    "            if len(indexes) == j+1:\n",
    "                break\n",
    "            df_bola_x.at[k,'diff_' + bola] = df_bola_x.iloc[indexes[j+1]].Concurso - df_bola_x.iloc[k].Concurso\n",
    "    l_bolas.append(df_bola_x)\n",
    "    "
   ]
  },
  {
   "cell_type": "code",
   "execution_count": 18,
   "metadata": {},
   "outputs": [],
   "source": [
    "from functools import reduce\n",
    "df = reduce(lambda *l_bolas: pd.merge(*l_bolas, on='Concurso'), l_bolas)"
   ]
  },
  {
   "cell_type": "code",
   "execution_count": 10,
   "metadata": {},
   "outputs": [
    {
     "data": {
      "text/html": [
       "<div>\n",
       "<style scoped>\n",
       "    .dataframe tbody tr th:only-of-type {\n",
       "        vertical-align: middle;\n",
       "    }\n",
       "\n",
       "    .dataframe tbody tr th {\n",
       "        vertical-align: top;\n",
       "    }\n",
       "\n",
       "    .dataframe thead th {\n",
       "        text-align: right;\n",
       "    }\n",
       "</style>\n",
       "<table border=\"1\" class=\"dataframe\">\n",
       "  <thead>\n",
       "    <tr style=\"text-align: right;\">\n",
       "      <th></th>\n",
       "      <th>Concurso</th>\n",
       "      <th>bola 1</th>\n",
       "      <th>diff_bola 1</th>\n",
       "      <th>bola 2</th>\n",
       "      <th>diff_bola 2</th>\n",
       "      <th>bola 3</th>\n",
       "      <th>diff_bola 3</th>\n",
       "      <th>bola 4</th>\n",
       "      <th>diff_bola 4</th>\n",
       "      <th>bola 5</th>\n",
       "      <th>diff_bola 5</th>\n",
       "      <th>bola 6</th>\n",
       "      <th>diff_bola 6</th>\n",
       "    </tr>\n",
       "  </thead>\n",
       "  <tbody>\n",
       "    <tr>\n",
       "      <th>2386</th>\n",
       "      <td>2387</td>\n",
       "      <td>38</td>\n",
       "      <td>49.0</td>\n",
       "      <td>26</td>\n",
       "      <td>13.0</td>\n",
       "      <td>30</td>\n",
       "      <td>61.0</td>\n",
       "      <td>8</td>\n",
       "      <td>19.0</td>\n",
       "      <td>31</td>\n",
       "      <td>64.0</td>\n",
       "      <td>48</td>\n",
       "      <td>14.0</td>\n",
       "    </tr>\n",
       "    <tr>\n",
       "      <th>2389</th>\n",
       "      <td>2390</td>\n",
       "      <td>20</td>\n",
       "      <td>87.0</td>\n",
       "      <td>13</td>\n",
       "      <td>57.0</td>\n",
       "      <td>9</td>\n",
       "      <td>43.0</td>\n",
       "      <td>56</td>\n",
       "      <td>40.0</td>\n",
       "      <td>32</td>\n",
       "      <td>36.0</td>\n",
       "      <td>22</td>\n",
       "      <td>12.0</td>\n",
       "    </tr>\n",
       "    <tr>\n",
       "      <th>2390</th>\n",
       "      <td>2391</td>\n",
       "      <td>5</td>\n",
       "      <td>78.0</td>\n",
       "      <td>8</td>\n",
       "      <td>79.0</td>\n",
       "      <td>13</td>\n",
       "      <td>10.0</td>\n",
       "      <td>27</td>\n",
       "      <td>8.0</td>\n",
       "      <td>50</td>\n",
       "      <td>64.0</td>\n",
       "      <td>36</td>\n",
       "      <td>80.0</td>\n",
       "    </tr>\n",
       "    <tr>\n",
       "      <th>2396</th>\n",
       "      <td>2397</td>\n",
       "      <td>6</td>\n",
       "      <td>19.0</td>\n",
       "      <td>14</td>\n",
       "      <td>17.0</td>\n",
       "      <td>48</td>\n",
       "      <td>26.0</td>\n",
       "      <td>46</td>\n",
       "      <td>20.0</td>\n",
       "      <td>20</td>\n",
       "      <td>52.0</td>\n",
       "      <td>39</td>\n",
       "      <td>31.0</td>\n",
       "    </tr>\n",
       "    <tr>\n",
       "      <th>2400</th>\n",
       "      <td>2401</td>\n",
       "      <td>8</td>\n",
       "      <td>19.0</td>\n",
       "      <td>38</td>\n",
       "      <td>4.0</td>\n",
       "      <td>13</td>\n",
       "      <td>71.0</td>\n",
       "      <td>33</td>\n",
       "      <td>34.0</td>\n",
       "      <td>11</td>\n",
       "      <td>15.0</td>\n",
       "      <td>48</td>\n",
       "      <td>4.0</td>\n",
       "    </tr>\n",
       "  </tbody>\n",
       "</table>\n",
       "</div>"
      ],
      "text/plain": [
       "      Concurso  bola 1  diff_bola 1  bola 2  diff_bola 2  bola 3  diff_bola 3  \\\n",
       "2386      2387      38         49.0      26         13.0      30         61.0   \n",
       "2389      2390      20         87.0      13         57.0       9         43.0   \n",
       "2390      2391       5         78.0       8         79.0      13         10.0   \n",
       "2396      2397       6         19.0      14         17.0      48         26.0   \n",
       "2400      2401       8         19.0      38          4.0      13         71.0   \n",
       "\n",
       "      bola 4  diff_bola 4  bola 5  diff_bola 5  bola 6  diff_bola 6  \n",
       "2386       8         19.0      31         64.0      48         14.0  \n",
       "2389      56         40.0      32         36.0      22         12.0  \n",
       "2390      27          8.0      50         64.0      36         80.0  \n",
       "2396      46         20.0      20         52.0      39         31.0  \n",
       "2400      33         34.0      11         15.0      48          4.0  "
      ]
     },
     "execution_count": 10,
     "metadata": {},
     "output_type": "execute_result"
    }
   ],
   "source": [
    "df.tail()"
   ]
  },
  {
   "cell_type": "code",
   "execution_count": 21,
   "metadata": {},
   "outputs": [
    {
     "data": {
      "image/png": "[encoded data removed]",
      "text/plain": [
       "<Figure size 1080x1800 with 6 Axes>"
      ]
     },
     "metadata": {
      "needs_background": "light"
     },
     "output_type": "display_data"
    }
   ],
   "source": [
    "i = 1\n",
    "plt.figure(figsize = (15,25))\n",
    "for feature in df[[x for x in df.columns if x.startswith(\"diff\")]]:\n",
    "    plt.subplot(6,3,i)\n",
    "    sns.histplot(df[feature].value_counts())\n",
    "#     sns.countplot(x = feature ,  data = data)\n",
    "    i +=1"
   ]
  },
  {
   "cell_type": "code",
   "execution_count": 15,
   "metadata": {},
   "outputs": [],
   "source": [
    "v1 = data2[\"bola 1\"].values\n",
    "v2 = data2[\"bola 2\"].values\n",
    "v3 = data2[\"bola 3\"].values\n",
    "v4 = data2[\"bola 4\"].values\n",
    "v5 = data2[\"bola 5\"].values\n",
    "v6 = data2[\"bola 6\"].values"
   ]
  },
  {
   "cell_type": "code",
   "execution_count": 43,
   "metadata": {},
   "outputs": [
    {
     "name": "stdout",
     "output_type": "stream",
     "text": [
      "[17.  3.  1. 18. 16.]\n",
      "16.0\n",
      "11.0\n",
      "\n",
      "\n",
      "[1. 2. 5. 6. 9.]\n",
      "5.0\n",
      "4.6\n",
      "\n",
      "\n",
      "[6. 8. 5. 9. 1.]\n",
      "6.0\n",
      "5.8\n",
      "\n",
      "\n",
      "[10.  9.  3. 14. 16.]\n",
      "10.0\n",
      "10.4\n",
      "\n",
      "\n",
      "[ 7.  2.  3.  6. 13.]\n",
      "6.0\n",
      "6.2\n",
      "\n",
      "\n",
      "[10.  7.  3. 12.  1.]\n",
      "7.0\n",
      "6.6\n",
      "\n",
      "\n"
     ]
    }
   ],
   "source": [
    "for feature in df[[x for x in df.columns if x.startswith(\"diff\")]]:\n",
    "    print(np.array(df[feature].value_counts().head().index))\n",
    "    print(np.median(np.array(df[feature].value_counts().head().index)))\n",
    "    print(np.array(df[feature].value_counts().head().index).mean())\n",
    "    print(\"\\n\")"
   ]
  },
  {
   "cell_type": "code",
   "execution_count": 16,
   "metadata": {},
   "outputs": [],
   "source": [
    "from scipy.spatial import distance\n",
    "def a(v1, v2):\n",
    "    return distance.euclidean(v1, v2)"
   ]
  },
  {
   "cell_type": "code",
   "execution_count": 17,
   "metadata": {},
   "outputs": [
    {
     "data": {
      "text/plain": [
       "1257.5313117374055"
      ]
     },
     "execution_count": 17,
     "metadata": {},
     "output_type": "execute_result"
    }
   ],
   "source": [
    "a(v1, v6)"
   ]
  },
  {
   "cell_type": "code",
   "execution_count": 45,
   "metadata": {},
   "outputs": [
    {
     "data": {
      "text/html": [
       "<div>\n",
       "<style scoped>\n",
       "    .dataframe tbody tr th:only-of-type {\n",
       "        vertical-align: middle;\n",
       "    }\n",
       "\n",
       "    .dataframe tbody tr th {\n",
       "        vertical-align: top;\n",
       "    }\n",
       "\n",
       "    .dataframe thead th {\n",
       "        text-align: right;\n",
       "    }\n",
       "</style>\n",
       "<table border=\"1\" class=\"dataframe\">\n",
       "  <thead>\n",
       "    <tr style=\"text-align: right;\">\n",
       "      <th></th>\n",
       "      <th>Concurso</th>\n",
       "      <th>bola 1</th>\n",
       "      <th>diff_bola 1</th>\n",
       "      <th>bola 2</th>\n",
       "      <th>diff_bola 2</th>\n",
       "      <th>bola 3</th>\n",
       "      <th>diff_bola 3</th>\n",
       "      <th>bola 4</th>\n",
       "      <th>diff_bola 4</th>\n",
       "      <th>bola 5</th>\n",
       "      <th>diff_bola 5</th>\n",
       "      <th>bola 6</th>\n",
       "      <th>diff_bola 6</th>\n",
       "    </tr>\n",
       "  </thead>\n",
       "  <tbody>\n",
       "    <tr>\n",
       "      <th>2386</th>\n",
       "      <td>2387</td>\n",
       "      <td>38</td>\n",
       "      <td>49.0</td>\n",
       "      <td>26</td>\n",
       "      <td>13.0</td>\n",
       "      <td>30</td>\n",
       "      <td>61.0</td>\n",
       "      <td>8</td>\n",
       "      <td>19.0</td>\n",
       "      <td>31</td>\n",
       "      <td>64.0</td>\n",
       "      <td>48</td>\n",
       "      <td>14.0</td>\n",
       "    </tr>\n",
       "    <tr>\n",
       "      <th>2389</th>\n",
       "      <td>2390</td>\n",
       "      <td>20</td>\n",
       "      <td>87.0</td>\n",
       "      <td>13</td>\n",
       "      <td>57.0</td>\n",
       "      <td>9</td>\n",
       "      <td>43.0</td>\n",
       "      <td>56</td>\n",
       "      <td>40.0</td>\n",
       "      <td>32</td>\n",
       "      <td>36.0</td>\n",
       "      <td>22</td>\n",
       "      <td>12.0</td>\n",
       "    </tr>\n",
       "    <tr>\n",
       "      <th>2390</th>\n",
       "      <td>2391</td>\n",
       "      <td>5</td>\n",
       "      <td>78.0</td>\n",
       "      <td>8</td>\n",
       "      <td>79.0</td>\n",
       "      <td>13</td>\n",
       "      <td>10.0</td>\n",
       "      <td>27</td>\n",
       "      <td>8.0</td>\n",
       "      <td>50</td>\n",
       "      <td>64.0</td>\n",
       "      <td>36</td>\n",
       "      <td>80.0</td>\n",
       "    </tr>\n",
       "    <tr>\n",
       "      <th>2396</th>\n",
       "      <td>2397</td>\n",
       "      <td>6</td>\n",
       "      <td>19.0</td>\n",
       "      <td>14</td>\n",
       "      <td>17.0</td>\n",
       "      <td>48</td>\n",
       "      <td>26.0</td>\n",
       "      <td>46</td>\n",
       "      <td>20.0</td>\n",
       "      <td>20</td>\n",
       "      <td>52.0</td>\n",
       "      <td>39</td>\n",
       "      <td>31.0</td>\n",
       "    </tr>\n",
       "    <tr>\n",
       "      <th>2400</th>\n",
       "      <td>2401</td>\n",
       "      <td>8</td>\n",
       "      <td>19.0</td>\n",
       "      <td>38</td>\n",
       "      <td>4.0</td>\n",
       "      <td>13</td>\n",
       "      <td>71.0</td>\n",
       "      <td>33</td>\n",
       "      <td>34.0</td>\n",
       "      <td>11</td>\n",
       "      <td>15.0</td>\n",
       "      <td>48</td>\n",
       "      <td>4.0</td>\n",
       "    </tr>\n",
       "  </tbody>\n",
       "</table>\n",
       "</div>"
      ],
      "text/plain": [
       "      Concurso  bola 1  diff_bola 1  bola 2  diff_bola 2  bola 3  diff_bola 3  \\\n",
       "2386      2387      38         49.0      26         13.0      30         61.0   \n",
       "2389      2390      20         87.0      13         57.0       9         43.0   \n",
       "2390      2391       5         78.0       8         79.0      13         10.0   \n",
       "2396      2397       6         19.0      14         17.0      48         26.0   \n",
       "2400      2401       8         19.0      38          4.0      13         71.0   \n",
       "\n",
       "      bola 4  diff_bola 4  bola 5  diff_bola 5  bola 6  diff_bola 6  \n",
       "2386       8         19.0      31         64.0      48         14.0  \n",
       "2389      56         40.0      32         36.0      22         12.0  \n",
       "2390      27          8.0      50         64.0      36         80.0  \n",
       "2396      46         20.0      20         52.0      39         31.0  \n",
       "2400      33         34.0      11         15.0      48          4.0  "
      ]
     },
     "execution_count": 45,
     "metadata": {},
     "output_type": "execute_result"
    }
   ],
   "source": [
    "df.tail()"
   ]
  },
  {
   "cell_type": "code",
   "execution_count": null,
   "metadata": {},
   "outputs": [],
   "source": []
  }
 ],
 "metadata": {
  "kernelspec": {
   "display_name": "Python 3 (ipykernel)",
   "language": "python",
   "name": "python3"
  },
  "language_info": {
   "codemirror_mode": {
    "name": "ipython",
    "version": 3
   },
   "file_extension": ".py",
   "mimetype": "text/x-python",
   "name": "python",
   "nbconvert_exporter": "python",
   "pygments_lexer": "ipython3",
   "version": "3.6.9"
  }
 },
 "nbformat": 4,
 "nbformat_minor": 4
}
