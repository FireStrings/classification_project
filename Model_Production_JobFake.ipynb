{
 "cells": [
  {
   "cell_type": "code",
   "execution_count": 1,
   "metadata": {},
   "outputs": [],
   "source": []
  },
  {
   "cell_type": "code",
   "execution_count": null,
   "metadata": {},
   "outputs": [],
   "source": []
  },
  {
   "cell_type": "code",
   "execution_count": 94,
   "metadata": {},
   "outputs": [
    {
     "data": {
      "text/plain": [
       "0    1014\n",
       "1     866\n",
       "Name: fraudulent, dtype: int64"
      ]
     },
     "execution_count": 94,
     "metadata": {},
     "output_type": "execute_result"
    }
   ],
   "source": [
    "# company_profile, salary_range, has_company_logo, has_questions\n",
    "dados = pd.read_csv(\"data/fake_job_postings.csv\")\n",
    "\n",
    "# dados.count()\n",
    "# dados[dados.fraudulent == 0].required_experience.isna().sum()\n",
    "# dados[dados.fraudulent == 0].company_profile.value_counts()\n",
    "# dados.iloc[98]\n",
    "# scaler = StandardScaler()\n",
    "\n",
    "# generos_escalados = scaler.fit_transform(dados[dados.fraudulent == 0].company_profile)\n",
    "# dados.head()\n",
    "# type(dados[dados.fraudulent == 0].company_profile.iloc[5])\n",
    "\n",
    "# a = dados.groupby('has_company_logo').sum().fraudulent\n",
    "\n",
    "dados.drop(dados[dados.fraudulent == 0][:16000].index, inplace=True)\n",
    "dados.fraudulent.value_counts()"
   ]
  },
  {
   "cell_type": "code",
   "execution_count": 95,
   "metadata": {},
   "outputs": [
    {
     "data": {
      "text/plain": [
       "Text(0.5, 1.0, 'Grafico de Barra')"
      ]
     },
     "execution_count": 95,
     "metadata": {},
     "output_type": "execute_result"
    },
    {
     "data": {
      "image/png": "[encoded data removed]",
      "text/plain": [
       "<Figure size 720x360 with 1 Axes>"
      ]
     },
     "metadata": {
      "needs_background": "light"
     },
     "output_type": "display_data"
    }
   ],
   "source": [
    "def toInt(y):\n",
    "    try:\n",
    "        return int(y)\n",
    "    except ValueError as ve:\n",
    "        return 0\n",
    "\n",
    "def mean(x):\n",
    "    if isinstance(x, list):\n",
    "        return sum([toInt(y) for y in x])/2\n",
    "    \n",
    "def transf(x):\n",
    "    if isinstance(x,float):\n",
    "        return 0\n",
    "    else:\n",
    "        return 1\n",
    "    \n",
    "dados.salary_range = dados.salary_range.str.split(pat=\"-\")\n",
    "\n",
    "dados.salary_range = dados.salary_range.apply(mean)\n",
    "dados.fillna({\"salary_range\":0}, inplace=True)\n",
    "\n",
    "dados.company_profile = dados.company_profile.apply(transf)\n",
    "\n",
    "# a = dados.groupby('fraudulent').sum().has_company_logo\n",
    "# plt.figure(figsize=(10,5))\n",
    "# plt.bar(a.index, a.tolist())\n",
    "# plt.xlabel('Fraudlento', fontsize=10)\n",
    "# plt.ylabel('Logo Comp', fontsize=10)\n",
    "# plt.xticks(a.index, a.index, fontsize=10, rotation=30)\n",
    "# plt.title('Grafico de Barra')\n",
    "\n",
    "\n",
    "# scaler = StandardScaler()\n",
    "\n",
    "# generos_escalados = scaler.fit_transform(generos)\n",
    "\n",
    "# dados.has_company_logo\n",
    "\n",
    "# trocar = {\"Bachelor's Degree\":0, \"High School or equivalent\":1, \"Unspecified\":2, \"Master's Degree\":3,\n",
    "#          \"Associate Degree\":4, \"Certification\":5, \"Some College Coursework Completed\":6,\"Professional\":7,\n",
    "#           \"Vocational\":8, \"Some High School Coursework\":9,\"Doctorate\":10, \"Vocational - HS Diploma\":11,\n",
    "#          \"Vocational - Degree \":12}\n",
    "\n",
    "# dados.required_education = dados.required_education.map(trocar)\n",
    "# dados.required_education.fillna(13, inplace=True)\n",
    "# dados = pd.concat([dados, dados.employment_type.str.get_dummies()], axis=1)\n",
    "# # dados = pd.concat([dados, dados.required_education.str.get_dummies()], axis=1)\n",
    "# dados = pd.concat([dados, dados.industry.str.get_dummies()], axis=1)\n",
    "# dados = pd.concat([dados, dados.required_experience.str.get_dummies()], axis=1)\n",
    "# dados = pd.concat([dados, dados.function.str.get_dummies()], axis=1)\n",
    "\n",
    "\n",
    "# dados.drop(['job_id'], axis=1, inplace=True)\n",
    "# dados.drop(['employment_type'], axis=1, inplace=True)\n",
    "# # dados.drop(['required_education'], axis=1, inplace=True)\n",
    "# dados.drop(['industry'], axis=1, inplace=True)\n",
    "# dados.drop(['required_experience'], axis=1, inplace=True)\n",
    "# dados.drop(['function', 'title', 'location', 'department', 'company_profile', 'description', 'requirements', 'benefits'], axis=1, inplace=True)"
   ]
  },
  {
   "cell_type": "code",
   "execution_count": 57,
   "metadata": {},
   "outputs": [
    {
     "name": "stdout",
     "output_type": "stream",
     "text": [
      "Treinaremos com 1410 elementos e testaremos com 470 elementos \n"
     ]
    }
   ],
   "source": [
    "#     print(i)\n",
    "y = dados[\"fraudulent\"]\n",
    "# dados.drop(['fraudulent'], axis=1, inplace=True)\n",
    "    \n",
    "x = dados[['company_profile','has_company_logo', 'has_questions']]\n",
    "\n",
    "\n",
    "\n",
    "np.random.seed(8)\n",
    "\n",
    "treino_x, teste_x, treino_y, teste_y = train_test_split(x,y, test_size=0.25, stratify=y)\n",
    "\n",
    "print(\"Treinaremos com %d elementos e testaremos com %d elementos \" % (len(treino_x), len(teste_x)))"
   ]
  },
  {
   "cell_type": "code",
   "execution_count": 75,
   "metadata": {},
   "outputs": [
    {
     "name": "stdout",
     "output_type": "stream",
     "text": [
      "A acurácia foi de : 75.96% \n"
     ]
    }
   ],
   "source": [
    "modelo1 = SVC()\n",
    "modelo1.fit(treino_x, treino_y)\n",
    "\n",
    "\n",
    "previsoes = modelo1.predict(teste_x)\n",
    "\n",
    "\n",
    "acuracia = accuracy_score(teste_y, previsoes)*100\n",
    "print(\"A acurácia foi de : %.2f%% \" % acuracia)\n",
    "\n",
    "# dados.head()"
   ]
  },
  {
   "cell_type": "code",
   "execution_count": 67,
   "metadata": {},
   "outputs": [],
   "source": [
    "# teste_x[\"fraudulento\"] = previsoes\n",
    "# teste_x.head()\n",
    "\n",
    "# for i in previsoes:\n",
    "#     if i == 0:\n",
    "#         print(\"UM\")"
   ]
  },
  {
   "cell_type": "code",
   "execution_count": 60,
   "metadata": {},
   "outputs": [
    {
     "data": {
      "text/plain": [
       "['modelo1.joblib']"
      ]
     },
     "execution_count": 60,
     "metadata": {},
     "output_type": "execute_result"
    }
   ],
   "source": [
    "dump(modelo1, 'modelo1.joblib') "
   ]
  },
  {
   "cell_type": "code",
   "execution_count": 61,
   "metadata": {},
   "outputs": [],
   "source": [
    "modelo = load('modelo1.joblib')"
   ]
  },
  {
   "cell_type": "code",
   "execution_count": 81,
   "metadata": {},
   "outputs": [
    {
     "data": {
      "text/plain": [
       "array([0])"
      ]
     },
     "execution_count": 81,
     "metadata": {},
     "output_type": "execute_result"
    }
   ],
   "source": [
    "# previsoes[:]\n",
    "dados[dados.fraudulent == 0]\n",
    "\n",
    "# teste_y[teste_y.iloc[] == 1].values[:-1]\n",
    "# modelo.predict([dados.iloc[2][['company_profile','has_company_logo', 'has_questions']].values])\n",
    "modelo.predict([[1,1,1]])\n",
    "# for i in range(100,200):\n",
    "#     print()\n",
    "#     \n",
    "#     if a == 0:\n",
    "#         print(\"Aqui\")\n"
   ]
  },
  {
   "cell_type": "code",
   "execution_count": null,
   "metadata": {},
   "outputs": [],
   "source": []
  },
  {
   "cell_type": "code",
   "execution_count": null,
   "metadata": {},
   "outputs": [],
   "source": []
  }
 ],
 "metadata": {
  "kernelspec": {
   "display_name": "Python 3",
   "language": "python",
   "name": "python3"
  },
  "language_info": {
   "codemirror_mode": {
    "name": "ipython",
    "version": 3
   },
   "file_extension": ".py",
   "mimetype": "text/x-python",
   "name": "python",
   "nbconvert_exporter": "python",
   "pygments_lexer": "ipython3",
   "version": "3.6.9"
  }
 },
 "nbformat": 4,
 "nbformat_minor": 4
}
