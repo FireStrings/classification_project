{
 "cells": [
  {
   "cell_type": "code",
   "execution_count": null,
   "metadata": {},
   "outputs": [],
   "source": [
    "import torch\n",
    "import time\n",
    "import torch.nn as nn\n",
    "import numpy as np\n",
    "from sklearn import datasets\n",
    "import matplotlib.pyplot as plt"
   ]
  },
  {
   "cell_type": "code",
   "execution_count": null,
   "metadata": {},
   "outputs": [],
   "source": [
    "# PREPARAÇÃP DA DATA\n",
    "x_numpy, y_numpy = datasets.make_regression(n_samples=100, n_features=1, noise=20, random_state=1)"
   ]
  },
  {
   "cell_type": "code",
   "execution_count": null,
   "metadata": {},
   "outputs": [],
   "source": [
    "x = torch.from_numpy(x_numpy.astype(np.float32))\n",
    "y = torch.from_numpy(y_numpy.astype(np.float32))\n",
    "y = y.view(y.shape[0], 1)"
   ]
  },
  {
   "cell_type": "code",
   "execution_count": null,
   "metadata": {},
   "outputs": [],
   "source": [
    "plt.plot(x_numpy, y_numpy, 'ro')"
   ]
  },
  {
   "cell_type": "code",
   "execution_count": null,
   "metadata": {},
   "outputs": [],
   "source": [
    "# DEFINICIÇÃO DE MODELO\n",
    "input_size = 1\n",
    "output_size = 1\n",
    "model = nn.Linear(input_size, output_size)\n",
    "\n",
    "# DEFINIÇÃO DA FUNÇAO DE CUSTO E OTIMIZADOR\n",
    "learning_rate = 0.01\n",
    "criterion = nn.MSELoss()\n",
    "optimizer = torch.optim.SGD(model.parameters(), lr=learning_rate)\n",
    "print (model.parameters())\n",
    "\n",
    "# LOOP DE TREINAMENTO\n",
    "num_epochs = 1000\n",
    "contador_custo = []\n",
    "\n",
    "for epoch in range(num_epochs):\n",
    "  #forward pass and loos\n",
    "  y_hat = model(x)\n",
    "  loss = criterion(y_hat, y)\n",
    "  contador_custo.append(loss)\n",
    "\n",
    "  \n",
    "  #backward pass (calcular gradientes)\n",
    "  loss.backward()\n",
    "\n",
    "  #update (atualizar os pesos)\n",
    "  optimizer.step()\n",
    "\n",
    "  if (epoch+1)%10 == 0:\n",
    "      print('Epoch: ', epoch)\n",
    "      print('Custo: {:.20f}'.format(loss.item())) \n",
    "      print('Coeficientes: ')\n",
    "      print('m: {:.20f}'.format(model.weight.data.detach().item()))\n",
    "      print('m (gradiente): {:.20f}'.format(model.weight.grad.detach().item()))\n",
    "      print('b: {:.20f}'.format(model.bias.data.detach().item()))\n",
    "      print('b (gradiente): {:.20f}'.format(model.bias.grad.detach().item()))\n",
    "      #for p in model.parameters():\n",
    "      #  print('{:.2f}'.format(p.data.detach().item()))\n",
    "      #  print('{:.2f}'.format(p.grad.detach().item()))\n",
    "      previsao_final = y_hat.detach().numpy()\n",
    "      plt.plot(x_numpy, y_numpy, 'ro') \n",
    "      plt.plot(x_numpy, previsao_final, 'b')\n",
    "      plt.show()\n",
    "      \n",
    "  #limpar o otimizador\n",
    "  optimizer.zero_grad()\n",
    "\n",
    "# PLOTANDO O GRÁFICO DA FUNÇÃO DE CUSTO\n",
    "print(\"GRÁFICO DA FUNÇÃO DE CUSTO\")\n",
    "plt.plot(contador_custo, 'b')\n",
    "plt.show()"
   ]
  },
  {
   "cell_type": "code",
   "execution_count": null,
   "metadata": {},
   "outputs": [],
   "source": []
  }
 ],
 "metadata": {
  "kernelspec": {
   "display_name": "Python 3",
   "language": "python",
   "name": "python3"
  },
  "language_info": {
   "codemirror_mode": {
    "name": "ipython",
    "version": 3
   },
   "file_extension": ".py",
   "mimetype": "text/x-python",
   "name": "python",
   "nbconvert_exporter": "python",
   "pygments_lexer": "ipython3",
   "version": "3.6.9"
  }
 },
 "nbformat": 4,
 "nbformat_minor": 4
}
