{
 "cells": [
  {
   "cell_type": "code",
   "execution_count": 30,
   "metadata": {},
   "outputs": [
    {
     "name": "stdout",
     "output_type": "stream",
     "text": [
      ">0 f([0.58143743]) = 0.33807\n",
      ">1 f([0.46514995]) = 0.21636\n",
      ">2 f([0.37211996]) = 0.13847\n",
      ">3 f([0.29769596]) = 0.08862\n",
      ">4 f([0.23815677]) = 0.05672\n",
      ">5 f([0.19052542]) = 0.03630\n",
      ">6 f([0.15242033]) = 0.02323\n",
      ">7 f([0.12193627]) = 0.01487\n",
      ">8 f([0.09754901]) = 0.00952\n",
      ">9 f([0.07803921]) = 0.00609\n",
      ">10 f([0.06243137]) = 0.00390\n",
      ">11 f([0.0499451]) = 0.00249\n",
      ">12 f([0.03995608]) = 0.00160\n",
      ">13 f([0.03196486]) = 0.00102\n",
      ">14 f([0.02557189]) = 0.00065\n",
      ">15 f([0.02045751]) = 0.00042\n",
      ">16 f([0.01636601]) = 0.00027\n",
      ">17 f([0.01309281]) = 0.00017\n",
      ">18 f([0.01047425]) = 0.00011\n",
      ">19 f([0.0083794]) = 0.00007\n",
      ">20 f([0.00670352]) = 0.00004\n",
      ">21 f([0.00536281]) = 0.00003\n",
      ">22 f([0.00429025]) = 0.00002\n",
      ">23 f([0.0034322]) = 0.00001\n",
      ">24 f([0.00274576]) = 0.00001\n",
      ">25 f([0.00219661]) = 0.00000\n",
      ">26 f([0.00175729]) = 0.00000\n",
      ">27 f([0.00140583]) = 0.00000\n",
      ">28 f([0.00112466]) = 0.00000\n",
      ">29 f([0.00089973]) = 0.00000\n"
     ]
    },
    {
     "data": {
      "image/png": "[encoded data removed]",
      "text/plain": [
       "<Figure size 432x288 with 1 Axes>"
      ]
     },
     "metadata": {
      "needs_background": "light"
     },
     "output_type": "display_data"
    }
   ],
   "source": [
    "# example of plotting a gradient descent search on a one-dimensional function\n",
    "import sys\n",
    "from numpy import asarray\n",
    "from numpy import arange\n",
    "from numpy.random import rand\n",
    "from matplotlib import pyplot\n",
    "%matplotlib inline\n",
    " \n",
    "# objective function\n",
    "def objective(x):\n",
    "    return x**2.0\n",
    " \n",
    "# derivative of objective function\n",
    "def derivative(x):\n",
    "    return x * 2.0\n",
    " \n",
    "# gradient descent algorithm\n",
    "def gradient_descent(objective, derivative, bounds, n_iter, step_size):\n",
    "    # track all solutions\n",
    "    solutions, scores = list(), list()\n",
    "    # generate an initial point\n",
    "    solution = bounds[:, 0] + rand(len(bounds)) * (bounds[:, 1] - bounds[:, 0])\n",
    "    \n",
    "    # run the gradient descent\n",
    "    for i in range(n_iter):\n",
    "        # calculate gradient\n",
    "        gradient = derivative(solution)\n",
    "        \n",
    "        # take a step\n",
    "        solution = solution - step_size * gradient\n",
    "        # evaluate candidate point\n",
    "        solution_eval = objective(solution)\n",
    "        # store solution\n",
    "        solutions.append(solution)\n",
    "        scores.append(solution_eval)\n",
    "        # report progress\n",
    "        print('>%d f(%s) = %.5f' % (i, solution, solution_eval))\n",
    "    return [solutions, scores]\n",
    " \n",
    "# define range for input\n",
    "bounds = asarray([[-1.0, 1.0]])\n",
    "\n",
    "# define the total iterations\n",
    "n_iter = 30\n",
    "# define the step size\n",
    "step_size = 0.1\n",
    "# perform the gradient descent search\n",
    "solutions, scores = gradient_descent(objective, derivative, bounds, n_iter, step_size)\n",
    "# sample input range uniformly at 0.1 increments\n",
    "inputs = arange(bounds[0,0], bounds[0,1]+0.1, 0.1)\n",
    "# compute targets\n",
    "results = objective(inputs)\n",
    "# create a line plot of input vs result\n",
    "pyplot.plot(inputs, results)\n",
    "# plot the solutions found\n",
    "pyplot.plot(solutions, scores, '.-', color='red')\n",
    "# show the plot\n",
    "pyplot.show()"
   ]
  },
  {
   "cell_type": "code",
   "execution_count": null,
   "metadata": {},
   "outputs": [],
   "source": []
  },
  {
   "cell_type": "code",
   "execution_count": null,
   "metadata": {},
   "outputs": [],
   "source": []
  },
  {
   "cell_type": "code",
   "execution_count": null,
   "metadata": {},
   "outputs": [],
   "source": []
  }
 ],
 "metadata": {
  "kernelspec": {
   "display_name": "Python 3",
   "language": "python",
   "name": "python3"
  },
  "language_info": {
   "codemirror_mode": {
    "name": "ipython",
    "version": 3
   },
   "file_extension": ".py",
   "mimetype": "text/x-python",
   "name": "python",
   "nbconvert_exporter": "python",
   "pygments_lexer": "ipython3",
   "version": "3.6.9"
  }
 },
 "nbformat": 4,
 "nbformat_minor": 4
}
