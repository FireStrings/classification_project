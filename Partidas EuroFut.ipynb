{
 "cells": [
  {
   "cell_type": "code",
   "execution_count": 1,
   "metadata": {},
   "outputs": [],
   "source": [
    "import pandas as pd\n",
    "import seaborn as sns\n",
    "pd.set_option('display.max_rows', 200)\n",
    "pd.set_option('display.max_columns', 20)\n",
    "import matplotlib.pyplot as plt\n",
    "%matplotlib inline\n",
    "from sklearn import svm\n",
    "from sklearn.preprocessing import StandardScaler"
   ]
  },
  {
   "cell_type": "code",
   "execution_count": 2,
   "metadata": {},
   "outputs": [],
   "source": [
    "matches = pd.read_csv(\"data/euro_soccer/Matches.csv\")\n",
    "teams = pd.read_csv(\"data/euro_soccer/Team.csv\")\n",
    "teams_attr = pd.read_csv(\"data/euro_soccer/Team_Attributes.csv\")\n",
    "players = pd.read_csv(\"data/euro_soccer/Player.csv\")\n",
    "players_attr = pd.read_csv(\"data/euro_soccer/Player_Attributes.csv\")\n",
    "countries = pd.read_csv(\"data/euro_soccer/Country.csv\")\n",
    "leagues = pd.read_csv(\"data/euro_soccer/League.csv\")"
   ]
  },
  {
   "cell_type": "code",
   "execution_count": 4,
   "metadata": {},
   "outputs": [],
   "source": [
    "players_attr.query(\"player_api_id == 109147\")"
   ]
  },
  {
   "cell_type": "code",
   "execution_count": 5,
   "metadata": {},
   "outputs": [],
   "source": [
    "# matches.columns()\n",
    "# [(i,x) for i, x in enumerate(matches.columns.tolist())]\n",
    "\n",
    "# df.columns[[0, 4, 2]], axis = 1, inplace = True)\n",
    "matches.drop(matches.columns[86:], axis=1, inplace=True)\n",
    "# teams.queryplayers(\"team_api_id == 9987\")"
   ]
  },
  {
   "cell_type": "code",
   "execution_count": 4,
   "metadata": {},
   "outputs": [],
   "source": [
    "#vitorias\n",
    "m = [matches.home_team_goal > matches.away_team_goal]\n",
    "tamanho = len(sum(m))\n",
    "winners = sum(sum(m))\n",
    "\n",
    "#empates\n",
    "n = [matches.home_team_goal == matches.away_team_goal]\n",
    "empates = sum(sum(n))\n",
    "\n",
    "#derrotas\n",
    "p = [matches.home_team_goal < matches.away_team_goal]\n",
    "losers = sum(sum(p))\n",
    "# tam = len(matches.home_team_goal.tolist())\n",
    "# l = [matches.home_team_goal > matches.away_team_goal]\n",
    "# sum(l)/len(l)\n",
    "# teams_attr.query(\"team_api_id == 9987\")"
   ]
  },
  {
   "cell_type": "code",
   "execution_count": 5,
   "metadata": {},
   "outputs": [
    {
     "name": "stdout",
     "output_type": "stream",
     "text": [
      "0.45871665576042187\n",
      "0.25389737865198814\n",
      "0.28738596558759\n"
     ]
    }
   ],
   "source": [
    "print(winners/tamanho)\n",
    "print(empates/tamanho)\n",
    "print(losers/tamanho)\n",
    "# sm = matches.iloc[0,:]\n",
    "# st = teams.iloc[0,:]"
   ]
  },
  {
   "cell_type": "code",
   "execution_count": 6,
   "metadata": {},
   "outputs": [],
   "source": [
    "df = matches.sample(5).T"
   ]
  },
  {
   "cell_type": "code",
   "execution_count": 7,
   "metadata": {},
   "outputs": [],
   "source": [
    "[(i,x) for i, x in enumerate(df.T.columns.tolist())]\n",
    "\n",
    "# df.T\n",
    "df2X = df.T[df.T.columns[12:34]]\n",
    "df2Y = df.T[df.T.columns[34:56]]"
   ]
  },
  {
   "cell_type": "code",
   "execution_count": 8,
   "metadata": {},
   "outputs": [
    {
     "data": {
      "text/plain": [
       "<matplotlib.axes._subplots.AxesSubplot at 0x7fb718acd5c0>"
      ]
     },
     "execution_count": 8,
     "metadata": {},
     "output_type": "execute_result"
    },
    {
     "data": {
      "image/png": "[encoded data removed]",
      "text/plain": [
       "<Figure size 432x288 with 1 Axes>"
      ]
     },
     "metadata": {
      "needs_background": "light"
     },
     "output_type": "display_data"
    }
   ],
   "source": [
    "# df2X.iloc[0].tolist()\n",
    "sns.scatterplot(x=df2X.iloc[1].tolist(), y=df2Y.iloc[1].tolist())"
   ]
  },
  {
   "cell_type": "code",
   "execution_count": 9,
   "metadata": {},
   "outputs": [],
   "source": [
    "df.drop(\"Unnamed: 0\", inplace=True)"
   ]
  },
  {
   "cell_type": "code",
   "execution_count": 10,
   "metadata": {},
   "outputs": [],
   "source": [
    "# matches.head().T\n",
    "# matches.head()\n",
    "matches.drop(\"Unnamed: 0\", axis=1, inplace=True)"
   ]
  },
  {
   "cell_type": "code",
   "execution_count": 11,
   "metadata": {},
   "outputs": [],
   "source": [
    "df_home_9989 = matches.query(\"home_team_api_id == 9989\")\n",
    "df_away_9989 = matches.query(\"away_team_api_id == 9989\")"
   ]
  },
  {
   "cell_type": "code",
   "execution_count": 12,
   "metadata": {},
   "outputs": [],
   "source": [
    "# matches.query(\"away_team_api_id == 9989\").count()"
   ]
  },
  {
   "cell_type": "code",
   "execution_count": 13,
   "metadata": {},
   "outputs": [
    {
     "name": "stdout",
     "output_type": "stream",
     "text": [
      "Vitorias:  0.23809523809523808\n",
      "Empates:  0.4603174603174603\n",
      "Derrotas:  0.30158730158730157\n"
     ]
    }
   ],
   "source": [
    "#9989 as Home\n",
    "vitorias = [df_home_9989.home_team_goal > df_home_9989.away_team_goal]\n",
    "empates = [df_home_9989.home_team_goal == df_home_9989.away_team_goal]\n",
    "derrotas = [df_home_9989.home_team_goal < df_home_9989.away_team_goal]\n",
    "\n",
    "tamanho = len(sum(vitorias))\n",
    "\n",
    "vitorias = sum(sum(vitorias))\n",
    "empates = sum(sum(empates))\n",
    "derrotas = sum(sum(derrotas))\n",
    "\n",
    "\n",
    "print(\"Vitorias: \", vitorias/tamanho)\n",
    "print(\"Empates: \", empates/tamanho)\n",
    "print(\"Derrotas: \", derrotas/tamanho)"
   ]
  },
  {
   "cell_type": "code",
   "execution_count": 14,
   "metadata": {},
   "outputs": [
    {
     "name": "stdout",
     "output_type": "stream",
     "text": [
      "Vitorias:  0.1111111111111111\n",
      "Empates:  0.2222222222222222\n",
      "Derrotas:  0.6666666666666666\n"
     ]
    }
   ],
   "source": [
    "#9989 as Away\n",
    "derrotas = [df_away_9989.home_team_goal > df_away_9989.away_team_goal]\n",
    "empates = [df_away_9989.home_team_goal == df_away_9989.away_team_goal]\n",
    "vitorias = [df_away_9989.home_team_goal < df_away_9989.away_team_goal]\n",
    "\n",
    "tamanho = len(sum(vitorias))\n",
    "\n",
    "vitorias = sum(sum(vitorias))\n",
    "empates = sum(sum(empates))\n",
    "derrotas = sum(sum(derrotas))\n",
    "\n",
    "\n",
    "print(\"Vitorias: \", vitorias/tamanho)\n",
    "print(\"Empates: \", empates/tamanho)\n",
    "print(\"Derrotas: \", derrotas/tamanho)"
   ]
  },
  {
   "cell_type": "code",
   "execution_count": 15,
   "metadata": {},
   "outputs": [
    {
     "name": "stderr",
     "output_type": "stream",
     "text": [
      "/usr/local/lib/python3.6/dist-packages/ipykernel_launcher.py:2: SettingWithCopyWarning: \n",
      "A value is trying to be set on a copy of a slice from a DataFrame.\n",
      "Try using .loc[row_indexer,col_indexer] = value instead\n",
      "\n",
      "See the caveats in the documentation: https://pandas.pydata.org/pandas-docs/stable/user_guide/indexing.html#returning-a-view-versus-a-copy\n",
      "  \n",
      "/usr/local/lib/python3.6/dist-packages/ipykernel_launcher.py:3: SettingWithCopyWarning: \n",
      "A value is trying to be set on a copy of a slice from a DataFrame.\n",
      "Try using .loc[row_indexer,col_indexer] = value instead\n",
      "\n",
      "See the caveats in the documentation: https://pandas.pydata.org/pandas-docs/stable/user_guide/indexing.html#returning-a-view-versus-a-copy\n",
      "  This is separate from the ipykernel package so we can avoid doing imports until\n"
     ]
    }
   ],
   "source": [
    "# df_away_9989.head(\n",
    "df_away_9989[\"ganhou\"] = df_away_9989.home_team_goal < df_away_9989.away_team_goal\n",
    "df_home_9989[\"ganhou\"] = df_home_9989.home_team_goal > df_home_9989.away_team_goal"
   ]
  },
  {
   "cell_type": "code",
   "execution_count": 16,
   "metadata": {},
   "outputs": [],
   "source": [
    "df_x = df_home_9989[df_home_9989.columns[10:54]].values.tolist()\n",
    "# df_x = df_home_9989[df_home_9989.columns[10:54]]"
   ]
  },
  {
   "cell_type": "code",
   "execution_count": 17,
   "metadata": {},
   "outputs": [],
   "source": [
    "df_y = df_home_9989[\"ganhou\"].map({False:0, True:1}).tolist()\n",
    "# df_y = df_home_9989[\"ganhou\"].map({False:0, True:1})"
   ]
  },
  {
   "cell_type": "code",
   "execution_count": 18,
   "metadata": {},
   "outputs": [],
   "source": [
    "# df_x[\"ganhou\"]=df_y"
   ]
  },
  {
   "cell_type": "code",
   "execution_count": 19,
   "metadata": {},
   "outputs": [],
   "source": [
    "# sns.lmplot(x=\"home_player_X2\",y=\"home_player_X4\", data=df_x, hue='ganhou', palette='Set1', fit_reg=False, scatter_kws={\"s\": 70});"
   ]
  },
  {
   "cell_type": "code",
   "execution_count": 20,
   "metadata": {},
   "outputs": [
    {
     "data": {
      "text/plain": [
       "SVC(C=1.0, break_ties=False, cache_size=200, class_weight=None, coef0=0.0,\n",
       "    decision_function_shape='ovr', degree=3, gamma='scale', kernel='linear',\n",
       "    max_iter=-1, probability=False, random_state=None, shrinking=True,\n",
       "    tol=0.001, verbose=False)"
      ]
     },
     "execution_count": 20,
     "metadata": {},
     "output_type": "execute_result"
    }
   ],
   "source": [
    "model = svm.SVC(kernel='linear')\n",
    "model.fit(df_x, df_y)\n",
    "# len(df_x)\n",
    "# len(df_y)"
   ]
  },
  {
   "cell_type": "code",
   "execution_count": 21,
   "metadata": {},
   "outputs": [
    {
     "data": {
      "text/plain": [
       "StandardScaler(copy=True, with_mean=True, with_std=True)"
      ]
     },
     "execution_count": 21,
     "metadata": {},
     "output_type": "execute_result"
    }
   ],
   "source": [
    "# w = model.coef_[0]\n",
    "scaler = StandardScaler()\n",
    "scaler.fit(df_x)"
   ]
  },
  {
   "cell_type": "code",
   "execution_count": 22,
   "metadata": {},
   "outputs": [],
   "source": [
    "# matches.sample(1).T"
   ]
  },
  {
   "cell_type": "code",
   "execution_count": 23,
   "metadata": {},
   "outputs": [],
   "source": [
    "new_df_x = scaler.transform(df_x)"
   ]
  },
  {
   "cell_type": "code",
   "execution_count": 24,
   "metadata": {},
   "outputs": [],
   "source": [
    "# model = svm.SVC(kernel='linear')\n",
    "# model.fit(new_df_x, df_y)"
   ]
  },
  {
   "cell_type": "code",
   "execution_count": 25,
   "metadata": {},
   "outputs": [],
   "source": [
    "# model.coef_[0]"
   ]
  },
  {
   "cell_type": "code",
   "execution_count": 26,
   "metadata": {},
   "outputs": [],
   "source": [
    "from sklearn.metrics import classification_report"
   ]
  },
  {
   "cell_type": "code",
   "execution_count": 27,
   "metadata": {},
   "outputs": [
    {
     "data": {
      "text/plain": [
       "<function sklearn.metrics._classification.classification_report(y_true, y_pred, labels=None, target_names=None, sample_weight=None, digits=2, output_dict=False, zero_division='warn')>"
      ]
     },
     "execution_count": 27,
     "metadata": {},
     "output_type": "execute_result"
    }
   ],
   "source": [
    "classification_report"
   ]
  },
  {
   "cell_type": "code",
   "execution_count": 28,
   "metadata": {},
   "outputs": [],
   "source": [
    "train_x = new_df_x[:48]\n",
    "teste_x = new_df_x[48:]"
   ]
  },
  {
   "cell_type": "code",
   "execution_count": 29,
   "metadata": {},
   "outputs": [],
   "source": [
    "train_y = df_y[:48]\n",
    "teste_y = df_y[48:]"
   ]
  },
  {
   "cell_type": "code",
   "execution_count": 30,
   "metadata": {},
   "outputs": [
    {
     "data": {
      "text/plain": [
       "SVC(C=1.0, break_ties=False, cache_size=200, class_weight=None, coef0=0.0,\n",
       "    decision_function_shape='ovr', degree=3, gamma='scale', kernel='linear',\n",
       "    max_iter=-1, probability=False, random_state=None, shrinking=True,\n",
       "    tol=0.001, verbose=False)"
      ]
     },
     "execution_count": 30,
     "metadata": {},
     "output_type": "execute_result"
    }
   ],
   "source": [
    "model = svm.SVC(kernel='linear')\n",
    "model.fit(train_x, train_y)"
   ]
  },
  {
   "cell_type": "code",
   "execution_count": 31,
   "metadata": {},
   "outputs": [],
   "source": [
    "predict_y = model.predict(teste_x)"
   ]
  },
  {
   "cell_type": "code",
   "execution_count": 32,
   "metadata": {},
   "outputs": [
    {
     "data": {
      "text/plain": [
       "array([1, 0, 0, 0, 0, 0, 0, 0, 0, 0, 0, 1, 0, 0, 0])"
      ]
     },
     "execution_count": 32,
     "metadata": {},
     "output_type": "execute_result"
    }
   ],
   "source": [
    "predict_y"
   ]
  },
  {
   "cell_type": "code",
   "execution_count": 33,
   "metadata": {},
   "outputs": [],
   "source": [
    "a = classification_report(teste_y, predict_y)"
   ]
  },
  {
   "cell_type": "code",
   "execution_count": 34,
   "metadata": {},
   "outputs": [
    {
     "name": "stdout",
     "output_type": "stream",
     "text": [
      "              precision    recall  f1-score   support\n",
      "\n",
      "           0       0.85      0.92      0.88        12\n",
      "           1       0.50      0.33      0.40         3\n",
      "\n",
      "    accuracy                           0.80        15\n",
      "   macro avg       0.67      0.62      0.64        15\n",
      "weighted avg       0.78      0.80      0.78        15\n",
      "\n"
     ]
    }
   ],
   "source": [
    "print(a)"
   ]
  },
  {
   "cell_type": "code",
   "execution_count": 35,
   "metadata": {},
   "outputs": [
    {
     "data": {
      "text/plain": [
       "[1, 1, 0, 0, 0, 0, 0, 0, 0, 1, 0, 0, 0, 0, 0]"
      ]
     },
     "execution_count": 35,
     "metadata": {},
     "output_type": "execute_result"
    }
   ],
   "source": [
    "teste_y"
   ]
  },
  {
   "cell_type": "code",
   "execution_count": 36,
   "metadata": {},
   "outputs": [
    {
     "data": {
      "text/plain": [
       "array([1, 0, 0, 0, 0, 0, 0, 0, 0, 0, 0, 1, 0, 0, 0])"
      ]
     },
     "execution_count": 36,
     "metadata": {},
     "output_type": "execute_result"
    }
   ],
   "source": [
    "predict_y"
   ]
  },
  {
   "cell_type": "code",
   "execution_count": 47,
   "metadata": {},
   "outputs": [
    {
     "data": {
      "text/html": [
       "<div>\n",
       "<style scoped>\n",
       "    .dataframe tbody tr th:only-of-type {\n",
       "        vertical-align: middle;\n",
       "    }\n",
       "\n",
       "    .dataframe tbody tr th {\n",
       "        vertical-align: top;\n",
       "    }\n",
       "\n",
       "    .dataframe thead th {\n",
       "        text-align: right;\n",
       "    }\n",
       "</style>\n",
       "<table border=\"1\" class=\"dataframe\">\n",
       "  <thead>\n",
       "    <tr style=\"text-align: right;\">\n",
       "      <th></th>\n",
       "      <th>7951</th>\n",
       "    </tr>\n",
       "  </thead>\n",
       "  <tbody>\n",
       "    <tr>\n",
       "      <th>id</th>\n",
       "      <td>7952</td>\n",
       "    </tr>\n",
       "    <tr>\n",
       "      <th>country_id</th>\n",
       "      <td>7809</td>\n",
       "    </tr>\n",
       "    <tr>\n",
       "      <th>league_id</th>\n",
       "      <td>7809</td>\n",
       "    </tr>\n",
       "    <tr>\n",
       "      <th>season</th>\n",
       "      <td>2008/2009</td>\n",
       "    </tr>\n",
       "    <tr>\n",
       "      <th>stage</th>\n",
       "      <td>23</td>\n",
       "    </tr>\n",
       "    <tr>\n",
       "      <th>date</th>\n",
       "      <td>2009-03-07 00:00:00</td>\n",
       "    </tr>\n",
       "    <tr>\n",
       "      <th>match_api_id</th>\n",
       "      <td>499523</td>\n",
       "    </tr>\n",
       "    <tr>\n",
       "      <th>home_team_api_id</th>\n",
       "      <td>8226</td>\n",
       "    </tr>\n",
       "    <tr>\n",
       "      <th>away_team_api_id</th>\n",
       "      <td>8697</td>\n",
       "    </tr>\n",
       "    <tr>\n",
       "      <th>home_team_goal</th>\n",
       "      <td>0</td>\n",
       "    </tr>\n",
       "    <tr>\n",
       "      <th>away_team_goal</th>\n",
       "      <td>0</td>\n",
       "    </tr>\n",
       "    <tr>\n",
       "      <th>home_player_X1</th>\n",
       "      <td>1</td>\n",
       "    </tr>\n",
       "    <tr>\n",
       "      <th>home_player_X2</th>\n",
       "      <td>2</td>\n",
       "    </tr>\n",
       "    <tr>\n",
       "      <th>home_player_X3</th>\n",
       "      <td>4</td>\n",
       "    </tr>\n",
       "    <tr>\n",
       "      <th>home_player_X4</th>\n",
       "      <td>6</td>\n",
       "    </tr>\n",
       "    <tr>\n",
       "      <th>home_player_X5</th>\n",
       "      <td>8</td>\n",
       "    </tr>\n",
       "    <tr>\n",
       "      <th>home_player_X6</th>\n",
       "      <td>3</td>\n",
       "    </tr>\n",
       "    <tr>\n",
       "      <th>home_player_X7</th>\n",
       "      <td>5</td>\n",
       "    </tr>\n",
       "    <tr>\n",
       "      <th>home_player_X8</th>\n",
       "      <td>7</td>\n",
       "    </tr>\n",
       "    <tr>\n",
       "      <th>home_player_X9</th>\n",
       "      <td>3</td>\n",
       "    </tr>\n",
       "    <tr>\n",
       "      <th>home_player_X10</th>\n",
       "      <td>5</td>\n",
       "    </tr>\n",
       "    <tr>\n",
       "      <th>home_player_X11</th>\n",
       "      <td>7</td>\n",
       "    </tr>\n",
       "    <tr>\n",
       "      <th>away_player_X1</th>\n",
       "      <td>1</td>\n",
       "    </tr>\n",
       "    <tr>\n",
       "      <th>away_player_X2</th>\n",
       "      <td>2</td>\n",
       "    </tr>\n",
       "    <tr>\n",
       "      <th>away_player_X3</th>\n",
       "      <td>4</td>\n",
       "    </tr>\n",
       "    <tr>\n",
       "      <th>away_player_X4</th>\n",
       "      <td>6</td>\n",
       "    </tr>\n",
       "    <tr>\n",
       "      <th>away_player_X5</th>\n",
       "      <td>8</td>\n",
       "    </tr>\n",
       "    <tr>\n",
       "      <th>away_player_X6</th>\n",
       "      <td>5</td>\n",
       "    </tr>\n",
       "    <tr>\n",
       "      <th>away_player_X7</th>\n",
       "      <td>4</td>\n",
       "    </tr>\n",
       "    <tr>\n",
       "      <th>away_player_X8</th>\n",
       "      <td>6</td>\n",
       "    </tr>\n",
       "    <tr>\n",
       "      <th>away_player_X9</th>\n",
       "      <td>5</td>\n",
       "    </tr>\n",
       "    <tr>\n",
       "      <th>away_player_X10</th>\n",
       "      <td>4</td>\n",
       "    </tr>\n",
       "    <tr>\n",
       "      <th>away_player_X11</th>\n",
       "      <td>6</td>\n",
       "    </tr>\n",
       "    <tr>\n",
       "      <th>home_player_Y1</th>\n",
       "      <td>1</td>\n",
       "    </tr>\n",
       "    <tr>\n",
       "      <th>home_player_Y2</th>\n",
       "      <td>3</td>\n",
       "    </tr>\n",
       "    <tr>\n",
       "      <th>home_player_Y3</th>\n",
       "      <td>3</td>\n",
       "    </tr>\n",
       "    <tr>\n",
       "      <th>home_player_Y4</th>\n",
       "      <td>3</td>\n",
       "    </tr>\n",
       "    <tr>\n",
       "      <th>home_player_Y5</th>\n",
       "      <td>3</td>\n",
       "    </tr>\n",
       "    <tr>\n",
       "      <th>home_player_Y6</th>\n",
       "      <td>7</td>\n",
       "    </tr>\n",
       "    <tr>\n",
       "      <th>home_player_Y7</th>\n",
       "      <td>7</td>\n",
       "    </tr>\n",
       "    <tr>\n",
       "      <th>home_player_Y8</th>\n",
       "      <td>7</td>\n",
       "    </tr>\n",
       "    <tr>\n",
       "      <th>home_player_Y9</th>\n",
       "      <td>10</td>\n",
       "    </tr>\n",
       "    <tr>\n",
       "      <th>home_player_Y10</th>\n",
       "      <td>10</td>\n",
       "    </tr>\n",
       "    <tr>\n",
       "      <th>home_player_Y11</th>\n",
       "      <td>10</td>\n",
       "    </tr>\n",
       "    <tr>\n",
       "      <th>away_player_Y1</th>\n",
       "      <td>1</td>\n",
       "    </tr>\n",
       "    <tr>\n",
       "      <th>away_player_Y2</th>\n",
       "      <td>3</td>\n",
       "    </tr>\n",
       "    <tr>\n",
       "      <th>away_player_Y3</th>\n",
       "      <td>3</td>\n",
       "    </tr>\n",
       "    <tr>\n",
       "      <th>away_player_Y4</th>\n",
       "      <td>3</td>\n",
       "    </tr>\n",
       "    <tr>\n",
       "      <th>away_player_Y5</th>\n",
       "      <td>3</td>\n",
       "    </tr>\n",
       "    <tr>\n",
       "      <th>away_player_Y6</th>\n",
       "      <td>5</td>\n",
       "    </tr>\n",
       "    <tr>\n",
       "      <th>away_player_Y7</th>\n",
       "      <td>7</td>\n",
       "    </tr>\n",
       "    <tr>\n",
       "      <th>away_player_Y8</th>\n",
       "      <td>7</td>\n",
       "    </tr>\n",
       "    <tr>\n",
       "      <th>away_player_Y9</th>\n",
       "      <td>9</td>\n",
       "    </tr>\n",
       "    <tr>\n",
       "      <th>away_player_Y10</th>\n",
       "      <td>11</td>\n",
       "    </tr>\n",
       "    <tr>\n",
       "      <th>away_player_Y11</th>\n",
       "      <td>11</td>\n",
       "    </tr>\n",
       "    <tr>\n",
       "      <th>home_player_1</th>\n",
       "      <td>29303</td>\n",
       "    </tr>\n",
       "    <tr>\n",
       "      <th>home_player_2</th>\n",
       "      <td>29543</td>\n",
       "    </tr>\n",
       "    <tr>\n",
       "      <th>home_player_3</th>\n",
       "      <td>59582</td>\n",
       "    </tr>\n",
       "    <tr>\n",
       "      <th>home_player_4</th>\n",
       "      <td>27411</td>\n",
       "    </tr>\n",
       "    <tr>\n",
       "      <th>home_player_5</th>\n",
       "      <td>38213</td>\n",
       "    </tr>\n",
       "    <tr>\n",
       "      <th>home_player_6</th>\n",
       "      <td>39841</td>\n",
       "    </tr>\n",
       "    <tr>\n",
       "      <th>home_player_7</th>\n",
       "      <td>95574</td>\n",
       "    </tr>\n",
       "    <tr>\n",
       "      <th>home_player_8</th>\n",
       "      <td>78990</td>\n",
       "    </tr>\n",
       "    <tr>\n",
       "      <th>home_player_9</th>\n",
       "      <td>40176</td>\n",
       "    </tr>\n",
       "    <tr>\n",
       "      <th>home_player_10</th>\n",
       "      <td>35996</td>\n",
       "    </tr>\n",
       "    <tr>\n",
       "      <th>home_player_11</th>\n",
       "      <td>35411</td>\n",
       "    </tr>\n",
       "    <tr>\n",
       "      <th>away_player_1</th>\n",
       "      <td>27313</td>\n",
       "    </tr>\n",
       "    <tr>\n",
       "      <th>away_player_2</th>\n",
       "      <td>27310</td>\n",
       "    </tr>\n",
       "    <tr>\n",
       "      <th>away_player_3</th>\n",
       "      <td>35606</td>\n",
       "    </tr>\n",
       "    <tr>\n",
       "      <th>away_player_4</th>\n",
       "      <td>30252</td>\n",
       "    </tr>\n",
       "    <tr>\n",
       "      <th>away_player_5</th>\n",
       "      <td>27315</td>\n",
       "    </tr>\n",
       "    <tr>\n",
       "      <th>away_player_6</th>\n",
       "      <td>26257</td>\n",
       "    </tr>\n",
       "    <tr>\n",
       "      <th>away_player_7</th>\n",
       "      <td>42321</td>\n",
       "    </tr>\n",
       "    <tr>\n",
       "      <th>away_player_8</th>\n",
       "      <td>27316</td>\n",
       "    </tr>\n",
       "    <tr>\n",
       "      <th>away_player_9</th>\n",
       "      <td>31235</td>\n",
       "    </tr>\n",
       "    <tr>\n",
       "      <th>away_player_10</th>\n",
       "      <td>25366</td>\n",
       "    </tr>\n",
       "    <tr>\n",
       "      <th>away_player_11</th>\n",
       "      <td>37550</td>\n",
       "    </tr>\n",
       "    <tr>\n",
       "      <th>goal</th>\n",
       "      <td>&lt;goal /&gt;</td>\n",
       "    </tr>\n",
       "    <tr>\n",
       "      <th>shoton</th>\n",
       "      <td>&lt;shoton&gt;&lt;value&gt;&lt;stats&gt;&lt;shoton&gt;1&lt;/shoton&gt;&lt;/stat...</td>\n",
       "    </tr>\n",
       "    <tr>\n",
       "      <th>shotoff</th>\n",
       "      <td>&lt;shotoff&gt;&lt;value&gt;&lt;stats&gt;&lt;shotoff&gt;1&lt;/shotoff&gt;&lt;/s...</td>\n",
       "    </tr>\n",
       "    <tr>\n",
       "      <th>foulcommit</th>\n",
       "      <td>&lt;foulcommit&gt;&lt;value&gt;&lt;stats&gt;&lt;foulscommitted&gt;1&lt;/f...</td>\n",
       "    </tr>\n",
       "    <tr>\n",
       "      <th>card</th>\n",
       "      <td>&lt;card&gt;&lt;value&gt;&lt;comment&gt;y&lt;/comment&gt;&lt;stats&gt;&lt;ycard...</td>\n",
       "    </tr>\n",
       "    <tr>\n",
       "      <th>cross</th>\n",
       "      <td>&lt;cross&gt;&lt;value&gt;&lt;stats&gt;&lt;corners&gt;1&lt;/corners&gt;&lt;/sta...</td>\n",
       "    </tr>\n",
       "    <tr>\n",
       "      <th>corner</th>\n",
       "      <td>&lt;corner&gt;&lt;value&gt;&lt;stats&gt;&lt;corners&gt;1&lt;/corners&gt;&lt;/st...</td>\n",
       "    </tr>\n",
       "    <tr>\n",
       "      <th>possession</th>\n",
       "      <td>&lt;possession /&gt;</td>\n",
       "    </tr>\n",
       "  </tbody>\n",
       "</table>\n",
       "</div>"
      ],
      "text/plain": [
       "                                                               7951\n",
       "id                                                             7952\n",
       "country_id                                                     7809\n",
       "league_id                                                      7809\n",
       "season                                                    2008/2009\n",
       "stage                                                            23\n",
       "date                                            2009-03-07 00:00:00\n",
       "match_api_id                                                 499523\n",
       "home_team_api_id                                               8226\n",
       "away_team_api_id                                               8697\n",
       "home_team_goal                                                    0\n",
       "away_team_goal                                                    0\n",
       "home_player_X1                                                    1\n",
       "home_player_X2                                                    2\n",
       "home_player_X3                                                    4\n",
       "home_player_X4                                                    6\n",
       "home_player_X5                                                    8\n",
       "home_player_X6                                                    3\n",
       "home_player_X7                                                    5\n",
       "home_player_X8                                                    7\n",
       "home_player_X9                                                    3\n",
       "home_player_X10                                                   5\n",
       "home_player_X11                                                   7\n",
       "away_player_X1                                                    1\n",
       "away_player_X2                                                    2\n",
       "away_player_X3                                                    4\n",
       "away_player_X4                                                    6\n",
       "away_player_X5                                                    8\n",
       "away_player_X6                                                    5\n",
       "away_player_X7                                                    4\n",
       "away_player_X8                                                    6\n",
       "away_player_X9                                                    5\n",
       "away_player_X10                                                   4\n",
       "away_player_X11                                                   6\n",
       "home_player_Y1                                                    1\n",
       "home_player_Y2                                                    3\n",
       "home_player_Y3                                                    3\n",
       "home_player_Y4                                                    3\n",
       "home_player_Y5                                                    3\n",
       "home_player_Y6                                                    7\n",
       "home_player_Y7                                                    7\n",
       "home_player_Y8                                                    7\n",
       "home_player_Y9                                                   10\n",
       "home_player_Y10                                                  10\n",
       "home_player_Y11                                                  10\n",
       "away_player_Y1                                                    1\n",
       "away_player_Y2                                                    3\n",
       "away_player_Y3                                                    3\n",
       "away_player_Y4                                                    3\n",
       "away_player_Y5                                                    3\n",
       "away_player_Y6                                                    5\n",
       "away_player_Y7                                                    7\n",
       "away_player_Y8                                                    7\n",
       "away_player_Y9                                                    9\n",
       "away_player_Y10                                                  11\n",
       "away_player_Y11                                                  11\n",
       "home_player_1                                                 29303\n",
       "home_player_2                                                 29543\n",
       "home_player_3                                                 59582\n",
       "home_player_4                                                 27411\n",
       "home_player_5                                                 38213\n",
       "home_player_6                                                 39841\n",
       "home_player_7                                                 95574\n",
       "home_player_8                                                 78990\n",
       "home_player_9                                                 40176\n",
       "home_player_10                                                35996\n",
       "home_player_11                                                35411\n",
       "away_player_1                                                 27313\n",
       "away_player_2                                                 27310\n",
       "away_player_3                                                 35606\n",
       "away_player_4                                                 30252\n",
       "away_player_5                                                 27315\n",
       "away_player_6                                                 26257\n",
       "away_player_7                                                 42321\n",
       "away_player_8                                                 27316\n",
       "away_player_9                                                 31235\n",
       "away_player_10                                                25366\n",
       "away_player_11                                                37550\n",
       "goal                                                       <goal />\n",
       "shoton            <shoton><value><stats><shoton>1</shoton></stat...\n",
       "shotoff           <shotoff><value><stats><shotoff>1</shotoff></s...\n",
       "foulcommit        <foulcommit><value><stats><foulscommitted>1</f...\n",
       "card              <card><value><comment>y</comment><stats><ycard...\n",
       "cross             <cross><value><stats><corners>1</corners></sta...\n",
       "corner            <corner><value><stats><corners>1</corners></st...\n",
       "possession                                           <possession />"
      ]
     },
     "execution_count": 47,
     "metadata": {},
     "output_type": "execute_result"
    }
   ],
   "source": [
    "matches.sample(1).T\n",
    "#Possíveis features:\n",
    "# formação (x,y), "
   ]
  },
  {
   "cell_type": "code",
   "execution_count": 46,
   "metadata": {},
   "outputs": [],
   "source": [
    "# df_home_lose.count()"
   ]
  },
  {
   "cell_type": "code",
   "execution_count": null,
   "metadata": {},
   "outputs": [],
   "source": []
  },
  {
   "cell_type": "code",
   "execution_count": null,
   "metadata": {},
   "outputs": [],
   "source": []
  },
  {
   "cell_type": "code",
   "execution_count": null,
   "metadata": {},
   "outputs": [],
   "source": []
  }
 ],
 "metadata": {
  "kernelspec": {
   "display_name": "Python 3",
   "language": "python",
   "name": "python3"
  },
  "language_info": {
   "codemirror_mode": {
    "name": "ipython",
    "version": 3
   },
   "file_extension": ".py",
   "mimetype": "text/x-python",
   "name": "python",
   "nbconvert_exporter": "python",
   "pygments_lexer": "ipython3",
   "version": "3.6.9"
  }
 },
 "nbformat": 4,
 "nbformat_minor": 4
}
