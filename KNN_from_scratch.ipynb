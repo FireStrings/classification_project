{
 "cells": [
  {
   "cell_type": "code",
   "execution_count": 1,
   "metadata": {},
   "outputs": [],
   "source": [
    "import numpy as np\n",
    "import seaborn as sns\n",
    "import pandas as pd"
   ]
  },
  {
   "cell_type": "code",
   "execution_count": 2,
   "metadata": {},
   "outputs": [],
   "source": [
    "n, p = 100, .5\n",
    "s1 = np.random.binomial(n, p, 1000)\n",
    "s2 = np.random.binomial(n, p, 10)\n",
    "p = np.random.chisquare(10,10)"
   ]
  },
  {
   "cell_type": "code",
   "execution_count": 126,
   "metadata": {},
   "outputs": [
    {
     "data": {
      "text/plain": [
       "array([7, 8, 3, 2, 5, 6, 4, 0, 1])"
      ]
     },
     "execution_count": 126,
     "metadata": {},
     "output_type": "execute_result"
    }
   ],
   "source": [
    "np.argsort([80,98,49,34,76,53,65,16,27])\n",
    "# np.bincount([0, 1, 2, 2, 3, 3 , 5, 5, 6, 6, 6])\n",
    "# np.argmax()"
   ]
  },
  {
   "cell_type": "code",
   "execution_count": 4,
   "metadata": {},
   "outputs": [
    {
     "data": {
      "text/plain": [
       "<AxesSubplot:ylabel='Count'>"
      ]
     },
     "execution_count": 4,
     "metadata": {},
     "output_type": "execute_result"
    },
    {
     "data": {
      "image/png": "[encoded data removed]",
      "text/plain": [
       "<Figure size 432x288 with 1 Axes>"
      ]
     },
     "metadata": {
      "needs_background": "light"
     },
     "output_type": "display_data"
    }
   ],
   "source": [
    "sns.histplot(data=s1)"
   ]
  },
  {
   "cell_type": "code",
   "execution_count": 127,
   "metadata": {},
   "outputs": [],
   "source": [
    "class KNN:\n",
    "    def __init__(self, k=3):\n",
    "        self.k = k\n",
    "    \n",
    "    def fit(self, X, y):\n",
    "        self.X_train = X\n",
    "        self.y_train = y\n",
    "    \n",
    "    def predict(self, X_test):\n",
    "        \n",
    "        y_pred = [self._get_single_prediction(x_test_row) for x_test_row in X_test]\n",
    "        print(y_pred)\n",
    "#         print(len(y_pred))\n",
    "#         print(\"\\n\")\n",
    "        return np.array(y_pred)\n",
    "\n",
    "    def _get_single_prediction(self, x_test_row):\n",
    "        distances = [self._get_euclidean_distance(x_test_row, x_train_row) \n",
    "                 for x_train_row in self.X_train]\n",
    "        \n",
    "        \n",
    "        k_idx = np.argsort(distances)[:self.k]\n",
    "        \n",
    "#         print(k_idx)\n",
    "        k_labels = [self.y_train[idx] for idx in k_idx]\n",
    "#         print([distances[idx] for idx in k_idx])\n",
    "#         print(k_labels)\n",
    "#         print(np.bincount(k_labels))\n",
    "#         print(np.argmax(np.bincount(k_labels)))\n",
    "#         print(k_labels)\n",
    "        return np.argmax(np.bincount(k_labels))\n",
    "\n",
    "    def _get_euclidean_distance(self, x1, x2):\n",
    "        dist = np.sum((x1 - x2)**2)\n",
    "        return np.sqrt(dist)"
   ]
  },
  {
   "cell_type": "code",
   "execution_count": 128,
   "metadata": {},
   "outputs": [],
   "source": [
    "from sklearn import datasets\n",
    "from sklearn.model_selection import KFold\n",
    "\n",
    "def accuracy(y_true, y_pred):\n",
    "    accuracy = np.sum(y_true == y_pred) / len(y_true)\n",
    "    return accuracy\n",
    "\n",
    "iris = datasets.load_iris()\n",
    "X, y = iris.data, iris.target\n",
    "# print(X)\n",
    "# print(y)\n",
    "scores = []\n",
    "cv = KFold(n_splits=5, shuffle=True, random_state=1)"
   ]
  },
  {
   "cell_type": "code",
   "execution_count": 129,
   "metadata": {},
   "outputs": [],
   "source": [
    "#Sem o kfold\n",
    "def run(X, y):\n",
    "    #Elbow method\n",
    "    l_results = []\n",
    "#     for i in range(3, 30, 1): \n",
    "    i = 3\n",
    "#     for fold, (idx_train, idx_valid) in enumerate(cv.split(X)):\n",
    "\n",
    "    X_train, y_train = X[0:119], y[0:119]\n",
    "    X_valid, y_valid = X[119:], y[119:]\n",
    "\n",
    "    k = i\n",
    "    clf = KNN(k=k)\n",
    "    clf.fit(X_train, y_train)\n",
    "    predictions = clf.predict(X_valid)\n",
    "\n",
    "    score = accuracy(y_valid, predictions)\n",
    "    scores.append(score)\n",
    "\n",
    "#     m_score = np.mean(scores)\n",
    "#     l_results.append([i, m_score])\n",
    "#     print(f\"Mean Accuracy: {m_score}\")\n",
    "#     return l_results"
   ]
  },
  {
   "cell_type": "code",
   "execution_count": 130,
   "metadata": {},
   "outputs": [],
   "source": [
    "# def run(X, y):\n",
    "#     #Elbow method\n",
    "#     l_results = []\n",
    "# #     for i in range(3, 30, 1): \n",
    "#     i = 3\n",
    "#     for fold, (idx_train, idx_valid) in enumerate(cv.split(X)):\n",
    "\n",
    "#         X_train, y_train = X[idx_train], y[idx_train]\n",
    "#         X_valid, y_valid = X[idx_valid], y[idx_valid]\n",
    "\n",
    "#         k = i\n",
    "#         clf = KNN(k=k)\n",
    "#         clf.fit(X_train, y_train)\n",
    "#         predictions = clf.predict(X_valid)\n",
    "\n",
    "#         score = accuracy(y_valid, predictions)\n",
    "#         scores.append(score)\n",
    "\n",
    "#     m_score = np.mean(scores)\n",
    "#     l_results.append([i, m_score])\n",
    "#     print(f\"Mean Accuracy: {m_score}\")\n",
    "#     return l_results"
   ]
  },
  {
   "cell_type": "code",
   "execution_count": 131,
   "metadata": {},
   "outputs": [
    {
     "name": "stdout",
     "output_type": "stream",
     "text": [
      "[1, 2, 2, 2, 1, 2, 2, 1, 1, 2, 2, 2, 2, 2, 1, 2, 2, 2, 2, 1, 2, 2, 2, 2, 2, 2, 2, 1, 2, 2, 1]\n"
     ]
    }
   ],
   "source": [
    "run(X, y)"
   ]
  },
  {
   "cell_type": "code",
   "execution_count": 12,
   "metadata": {},
   "outputs": [
    {
     "name": "stdout",
     "output_type": "stream",
     "text": [
      "Mean Accuracy: 0.9600000000000002\n",
      "Mean Accuracy: 0.9566666666666667\n",
      "Mean Accuracy: 0.9555555555555556\n",
      "Mean Accuracy: 0.9549999999999997\n",
      "Mean Accuracy: 0.956\n",
      "Mean Accuracy: 0.9577777777777777\n",
      "Mean Accuracy: 0.9590476190476191\n",
      "Mean Accuracy: 0.96\n",
      "Mean Accuracy: 0.9607407407407408\n",
      "Mean Accuracy: 0.9613333333333334\n",
      "Mean Accuracy: 0.9618181818181819\n",
      "Mean Accuracy: 0.9616666666666668\n",
      "Mean Accuracy: 0.9615384615384616\n",
      "Mean Accuracy: 0.9609523809523809\n",
      "Mean Accuracy: 0.9608888888888888\n",
      "Mean Accuracy: 0.9608333333333334\n",
      "Mean Accuracy: 0.9607843137254902\n",
      "Mean Accuracy: 0.9607407407407408\n",
      "Mean Accuracy: 0.960701754385965\n",
      "Mean Accuracy: 0.9610000000000002\n",
      "Mean Accuracy: 0.960952380952381\n",
      "Mean Accuracy: 0.9603030303030303\n",
      "Mean Accuracy: 0.9597101449275363\n",
      "Mean Accuracy: 0.9591666666666667\n",
      "Mean Accuracy: 0.9586666666666669\n",
      "Mean Accuracy: 0.9579487179487179\n",
      "Mean Accuracy: 0.9570370370370371\n"
     ]
    }
   ],
   "source": [
    "resultado = pd.DataFrame(run(X, y), columns=['nK','score'])"
   ]
  },
  {
   "cell_type": "code",
   "execution_count": 13,
   "metadata": {},
   "outputs": [
    {
     "data": {
      "text/plain": [
       "<AxesSubplot:>"
      ]
     },
     "execution_count": 13,
     "metadata": {},
     "output_type": "execute_result"
    },
    {
     "data": {
      "image/png": "[encoded data removed]",
      "text/plain": [
       "<Figure size 432x288 with 1 Axes>"
      ]
     },
     "metadata": {
      "needs_background": "light"
     },
     "output_type": "display_data"
    }
   ],
   "source": [
    "resultado.score.plot(xticks=resultado.nK)"
   ]
  },
  {
   "cell_type": "code",
   "execution_count": 14,
   "metadata": {},
   "outputs": [],
   "source": [
    "data = pd.DataFrame(X, columns=[\"feat1\", \"feat2\", \"feat3\", \"feat4\"])"
   ]
  },
  {
   "cell_type": "code",
   "execution_count": 15,
   "metadata": {},
   "outputs": [],
   "source": [
    "data[\"target\"] = y"
   ]
  },
  {
   "cell_type": "code",
   "execution_count": 16,
   "metadata": {},
   "outputs": [
    {
     "data": {
      "text/html": [
       "<div>\n",
       "<style scoped>\n",
       "    .dataframe tbody tr th:only-of-type {\n",
       "        vertical-align: middle;\n",
       "    }\n",
       "\n",
       "    .dataframe tbody tr th {\n",
       "        vertical-align: top;\n",
       "    }\n",
       "\n",
       "    .dataframe thead th {\n",
       "        text-align: right;\n",
       "    }\n",
       "</style>\n",
       "<table border=\"1\" class=\"dataframe\">\n",
       "  <thead>\n",
       "    <tr style=\"text-align: right;\">\n",
       "      <th></th>\n",
       "      <th>feat1</th>\n",
       "      <th>feat2</th>\n",
       "      <th>feat3</th>\n",
       "      <th>feat4</th>\n",
       "      <th>target</th>\n",
       "    </tr>\n",
       "  </thead>\n",
       "  <tbody>\n",
       "    <tr>\n",
       "      <th>0</th>\n",
       "      <td>5.1</td>\n",
       "      <td>3.5</td>\n",
       "      <td>1.4</td>\n",
       "      <td>0.2</td>\n",
       "      <td>0</td>\n",
       "    </tr>\n",
       "    <tr>\n",
       "      <th>1</th>\n",
       "      <td>4.9</td>\n",
       "      <td>3.0</td>\n",
       "      <td>1.4</td>\n",
       "      <td>0.2</td>\n",
       "      <td>0</td>\n",
       "    </tr>\n",
       "    <tr>\n",
       "      <th>2</th>\n",
       "      <td>4.7</td>\n",
       "      <td>3.2</td>\n",
       "      <td>1.3</td>\n",
       "      <td>0.2</td>\n",
       "      <td>0</td>\n",
       "    </tr>\n",
       "    <tr>\n",
       "      <th>3</th>\n",
       "      <td>4.6</td>\n",
       "      <td>3.1</td>\n",
       "      <td>1.5</td>\n",
       "      <td>0.2</td>\n",
       "      <td>0</td>\n",
       "    </tr>\n",
       "    <tr>\n",
       "      <th>4</th>\n",
       "      <td>5.0</td>\n",
       "      <td>3.6</td>\n",
       "      <td>1.4</td>\n",
       "      <td>0.2</td>\n",
       "      <td>0</td>\n",
       "    </tr>\n",
       "  </tbody>\n",
       "</table>\n",
       "</div>"
      ],
      "text/plain": [
       "   feat1  feat2  feat3  feat4  target\n",
       "0    5.1    3.5    1.4    0.2       0\n",
       "1    4.9    3.0    1.4    0.2       0\n",
       "2    4.7    3.2    1.3    0.2       0\n",
       "3    4.6    3.1    1.5    0.2       0\n",
       "4    5.0    3.6    1.4    0.2       0"
      ]
     },
     "execution_count": 16,
     "metadata": {},
     "output_type": "execute_result"
    }
   ],
   "source": [
    "data.head()"
   ]
  },
  {
   "cell_type": "code",
   "execution_count": 17,
   "metadata": {},
   "outputs": [
    {
     "data": {
      "text/plain": [
       "<AxesSubplot:xlabel='feat2', ylabel='feat4'>"
      ]
     },
     "execution_count": 17,
     "metadata": {},
     "output_type": "execute_result"
    },
    {
     "data": {
      "image/png": "[encoded data removed]",
      "text/plain": [
       "<Figure size 432x288 with 1 Axes>"
      ]
     },
     "metadata": {
      "needs_background": "light"
     },
     "output_type": "display_data"
    }
   ],
   "source": [
    "sns.scatterplot(data=data, x=\"feat2\", y=\"feat4\", hue=\"target\")"
   ]
  },
  {
   "cell_type": "code",
   "execution_count": 18,
   "metadata": {},
   "outputs": [],
   "source": [
    "data2 = pd.read_csv(\"data/top50.csv\", encoding=\"latin1\")"
   ]
  },
  {
   "cell_type": "code",
   "execution_count": 19,
   "metadata": {},
   "outputs": [
    {
     "data": {
      "text/html": [
       "<div>\n",
       "<style scoped>\n",
       "    .dataframe tbody tr th:only-of-type {\n",
       "        vertical-align: middle;\n",
       "    }\n",
       "\n",
       "    .dataframe tbody tr th {\n",
       "        vertical-align: top;\n",
       "    }\n",
       "\n",
       "    .dataframe thead th {\n",
       "        text-align: right;\n",
       "    }\n",
       "</style>\n",
       "<table border=\"1\" class=\"dataframe\">\n",
       "  <thead>\n",
       "    <tr style=\"text-align: right;\">\n",
       "      <th></th>\n",
       "      <th>Unnamed: 0</th>\n",
       "      <th>Track.Name</th>\n",
       "      <th>Artist.Name</th>\n",
       "      <th>Genre</th>\n",
       "      <th>Beats.Per.Minute</th>\n",
       "      <th>Energy</th>\n",
       "      <th>Danceability</th>\n",
       "      <th>Loudness..dB..</th>\n",
       "      <th>Liveness</th>\n",
       "      <th>Valence.</th>\n",
       "      <th>Length.</th>\n",
       "      <th>Acousticness..</th>\n",
       "      <th>Speechiness.</th>\n",
       "      <th>Popularity</th>\n",
       "    </tr>\n",
       "  </thead>\n",
       "  <tbody>\n",
       "    <tr>\n",
       "      <th>0</th>\n",
       "      <td>1</td>\n",
       "      <td>Señorita</td>\n",
       "      <td>Shawn Mendes</td>\n",
       "      <td>canadian pop</td>\n",
       "      <td>117</td>\n",
       "      <td>55</td>\n",
       "      <td>76</td>\n",
       "      <td>-6</td>\n",
       "      <td>8</td>\n",
       "      <td>75</td>\n",
       "      <td>191</td>\n",
       "      <td>4</td>\n",
       "      <td>3</td>\n",
       "      <td>79</td>\n",
       "    </tr>\n",
       "    <tr>\n",
       "      <th>1</th>\n",
       "      <td>2</td>\n",
       "      <td>China</td>\n",
       "      <td>Anuel AA</td>\n",
       "      <td>reggaeton flow</td>\n",
       "      <td>105</td>\n",
       "      <td>81</td>\n",
       "      <td>79</td>\n",
       "      <td>-4</td>\n",
       "      <td>8</td>\n",
       "      <td>61</td>\n",
       "      <td>302</td>\n",
       "      <td>8</td>\n",
       "      <td>9</td>\n",
       "      <td>92</td>\n",
       "    </tr>\n",
       "    <tr>\n",
       "      <th>2</th>\n",
       "      <td>3</td>\n",
       "      <td>boyfriend (with Social House)</td>\n",
       "      <td>Ariana Grande</td>\n",
       "      <td>dance pop</td>\n",
       "      <td>190</td>\n",
       "      <td>80</td>\n",
       "      <td>40</td>\n",
       "      <td>-4</td>\n",
       "      <td>16</td>\n",
       "      <td>70</td>\n",
       "      <td>186</td>\n",
       "      <td>12</td>\n",
       "      <td>46</td>\n",
       "      <td>85</td>\n",
       "    </tr>\n",
       "    <tr>\n",
       "      <th>3</th>\n",
       "      <td>4</td>\n",
       "      <td>Beautiful People (feat. Khalid)</td>\n",
       "      <td>Ed Sheeran</td>\n",
       "      <td>pop</td>\n",
       "      <td>93</td>\n",
       "      <td>65</td>\n",
       "      <td>64</td>\n",
       "      <td>-8</td>\n",
       "      <td>8</td>\n",
       "      <td>55</td>\n",
       "      <td>198</td>\n",
       "      <td>12</td>\n",
       "      <td>19</td>\n",
       "      <td>86</td>\n",
       "    </tr>\n",
       "    <tr>\n",
       "      <th>4</th>\n",
       "      <td>5</td>\n",
       "      <td>Goodbyes (Feat. Young Thug)</td>\n",
       "      <td>Post Malone</td>\n",
       "      <td>dfw rap</td>\n",
       "      <td>150</td>\n",
       "      <td>65</td>\n",
       "      <td>58</td>\n",
       "      <td>-4</td>\n",
       "      <td>11</td>\n",
       "      <td>18</td>\n",
       "      <td>175</td>\n",
       "      <td>45</td>\n",
       "      <td>7</td>\n",
       "      <td>94</td>\n",
       "    </tr>\n",
       "  </tbody>\n",
       "</table>\n",
       "</div>"
      ],
      "text/plain": [
       "   Unnamed: 0                       Track.Name    Artist.Name           Genre  \\\n",
       "0           1                         Señorita   Shawn Mendes    canadian pop   \n",
       "1           2                            China       Anuel AA  reggaeton flow   \n",
       "2           3    boyfriend (with Social House)  Ariana Grande       dance pop   \n",
       "3           4  Beautiful People (feat. Khalid)     Ed Sheeran             pop   \n",
       "4           5      Goodbyes (Feat. Young Thug)    Post Malone         dfw rap   \n",
       "\n",
       "   Beats.Per.Minute  Energy  Danceability  Loudness..dB..  Liveness  Valence.  \\\n",
       "0               117      55            76              -6         8        75   \n",
       "1               105      81            79              -4         8        61   \n",
       "2               190      80            40              -4        16        70   \n",
       "3                93      65            64              -8         8        55   \n",
       "4               150      65            58              -4        11        18   \n",
       "\n",
       "   Length.  Acousticness..  Speechiness.  Popularity  \n",
       "0      191               4             3          79  \n",
       "1      302               8             9          92  \n",
       "2      186              12            46          85  \n",
       "3      198              12            19          86  \n",
       "4      175              45             7          94  "
      ]
     },
     "execution_count": 19,
     "metadata": {},
     "output_type": "execute_result"
    }
   ],
   "source": [
    "data2.head()"
   ]
  },
  {
   "cell_type": "code",
   "execution_count": 20,
   "metadata": {},
   "outputs": [],
   "source": [
    "X = data2[[\"Beats.Per.Minute\", \"Energy\", \"Danceability\", \"Loudness..dB..\", \"Liveness\", \"Valence.\", \"Length.\", \"Acousticness..\", \"Speechiness.\"]].values\n",
    "y = np.array([x[0] for x in data2[[\"Popularity\"]].values])\n"
   ]
  },
  {
   "cell_type": "code",
   "execution_count": 21,
   "metadata": {},
   "outputs": [
    {
     "name": "stdout",
     "output_type": "stream",
     "text": [
      "Mean Accuracy: 0.925\n",
      "Mean Accuracy: 0.8931034482758621\n",
      "Mean Accuracy: 0.8640000000000001\n",
      "Mean Accuracy: 0.8374193548387098\n",
      "Mean Accuracy: 0.8125\n",
      "Mean Accuracy: 0.7915151515151516\n",
      "Mean Accuracy: 0.7711764705882355\n",
      "Mean Accuracy: 0.7514285714285714\n",
      "Mean Accuracy: 0.7327777777777779\n",
      "Mean Accuracy: 0.714054054054054\n",
      "Mean Accuracy: 0.6963157894736842\n",
      "Mean Accuracy: 0.6800000000000002\n",
      "Mean Accuracy: 0.6645\n",
      "Mean Accuracy: 0.6497560975609757\n",
      "Mean Accuracy: 0.6347619047619049\n",
      "Mean Accuracy: 0.6204651162790698\n",
      "Mean Accuracy: 0.6077272727272727\n",
      "Mean Accuracy: 0.5960000000000001\n",
      "Mean Accuracy: 0.5847826086956524\n",
      "Mean Accuracy: 0.574468085106383\n",
      "Mean Accuracy: 0.5637500000000001\n",
      "Mean Accuracy: 0.5538775510204083\n",
      "Mean Accuracy: 0.5444000000000001\n",
      "Mean Accuracy: 0.5352941176470588\n",
      "Mean Accuracy: 0.5269230769230769\n",
      "Mean Accuracy: 0.5181132075471698\n",
      "Mean Accuracy: 0.5096296296296297\n"
     ]
    }
   ],
   "source": [
    "l_results = run(X, y)"
   ]
  },
  {
   "cell_type": "code",
   "execution_count": 22,
   "metadata": {},
   "outputs": [],
   "source": [
    "resultado = pd.DataFrame(l_results, columns=['nK','score'])"
   ]
  },
  {
   "cell_type": "code",
   "execution_count": 23,
   "metadata": {},
   "outputs": [
    {
     "data": {
      "text/plain": [
       "<AxesSubplot:>"
      ]
     },
     "execution_count": 23,
     "metadata": {},
     "output_type": "execute_result"
    },
    {
     "data": {
      "image/png": "[encoded data removed]",
      "text/plain": [
       "<Figure size 432x288 with 1 Axes>"
      ]
     },
     "metadata": {
      "needs_background": "light"
     },
     "output_type": "display_data"
    }
   ],
   "source": [
    "resultado.score.plot(xticks=resultado.nK)"
   ]
  },
  {
   "cell_type": "code",
   "execution_count": 24,
   "metadata": {},
   "outputs": [],
   "source": [
    "data = pd.DataFrame(X, columns=[\"feat1\", \"feat2\", \"feat3\", \"feat4\", \"feat5\", \"feat6\", \"feat7\", \"feat8\", \"feat9\"])\n",
    "# data[\"target\"] = y"
   ]
  },
  {
   "cell_type": "code",
   "execution_count": 25,
   "metadata": {},
   "outputs": [
    {
     "data": {
      "text/html": [
       "<div>\n",
       "<style scoped>\n",
       "    .dataframe tbody tr th:only-of-type {\n",
       "        vertical-align: middle;\n",
       "    }\n",
       "\n",
       "    .dataframe tbody tr th {\n",
       "        vertical-align: top;\n",
       "    }\n",
       "\n",
       "    .dataframe thead th {\n",
       "        text-align: right;\n",
       "    }\n",
       "</style>\n",
       "<table border=\"1\" class=\"dataframe\">\n",
       "  <thead>\n",
       "    <tr style=\"text-align: right;\">\n",
       "      <th></th>\n",
       "      <th>Unnamed: 0</th>\n",
       "      <th>Beats.Per.Minute</th>\n",
       "      <th>Energy</th>\n",
       "      <th>Danceability</th>\n",
       "      <th>Loudness..dB..</th>\n",
       "      <th>Liveness</th>\n",
       "      <th>Valence.</th>\n",
       "      <th>Length.</th>\n",
       "      <th>Acousticness..</th>\n",
       "      <th>Speechiness.</th>\n",
       "      <th>Popularity</th>\n",
       "    </tr>\n",
       "  </thead>\n",
       "  <tbody>\n",
       "    <tr>\n",
       "      <th>Unnamed: 0</th>\n",
       "      <td>1.000000</td>\n",
       "      <td>-0.259193</td>\n",
       "      <td>0.102649</td>\n",
       "      <td>0.122691</td>\n",
       "      <td>0.011914</td>\n",
       "      <td>0.270659</td>\n",
       "      <td>0.137329</td>\n",
       "      <td>-0.065844</td>\n",
       "      <td>-0.015993</td>\n",
       "      <td>-0.257506</td>\n",
       "      <td>-0.160680</td>\n",
       "    </tr>\n",
       "    <tr>\n",
       "      <th>Beats.Per.Minute</th>\n",
       "      <td>-0.259193</td>\n",
       "      <td>1.000000</td>\n",
       "      <td>0.043756</td>\n",
       "      <td>-0.094183</td>\n",
       "      <td>0.017016</td>\n",
       "      <td>-0.167286</td>\n",
       "      <td>-0.011586</td>\n",
       "      <td>-0.139288</td>\n",
       "      <td>-0.031450</td>\n",
       "      <td>0.557052</td>\n",
       "      <td>0.196097</td>\n",
       "    </tr>\n",
       "    <tr>\n",
       "      <th>Energy</th>\n",
       "      <td>0.102649</td>\n",
       "      <td>0.043756</td>\n",
       "      <td>1.000000</td>\n",
       "      <td>0.018254</td>\n",
       "      <td>0.670794</td>\n",
       "      <td>0.162768</td>\n",
       "      <td>0.438820</td>\n",
       "      <td>0.224677</td>\n",
       "      <td>-0.339892</td>\n",
       "      <td>-0.089860</td>\n",
       "      <td>-0.080295</td>\n",
       "    </tr>\n",
       "    <tr>\n",
       "      <th>Danceability</th>\n",
       "      <td>0.122691</td>\n",
       "      <td>-0.094183</td>\n",
       "      <td>0.018254</td>\n",
       "      <td>1.000000</td>\n",
       "      <td>0.016255</td>\n",
       "      <td>-0.149636</td>\n",
       "      <td>0.172829</td>\n",
       "      <td>-0.000185</td>\n",
       "      <td>-0.098165</td>\n",
       "      <td>-0.103472</td>\n",
       "      <td>-0.071413</td>\n",
       "    </tr>\n",
       "    <tr>\n",
       "      <th>Loudness..dB..</th>\n",
       "      <td>0.011914</td>\n",
       "      <td>0.017016</td>\n",
       "      <td>0.670794</td>\n",
       "      <td>0.016255</td>\n",
       "      <td>1.000000</td>\n",
       "      <td>0.258652</td>\n",
       "      <td>0.237614</td>\n",
       "      <td>0.219219</td>\n",
       "      <td>-0.138300</td>\n",
       "      <td>-0.272213</td>\n",
       "      <td>-0.043085</td>\n",
       "    </tr>\n",
       "    <tr>\n",
       "      <th>Liveness</th>\n",
       "      <td>0.270659</td>\n",
       "      <td>-0.167286</td>\n",
       "      <td>0.162768</td>\n",
       "      <td>-0.149636</td>\n",
       "      <td>0.258652</td>\n",
       "      <td>1.000000</td>\n",
       "      <td>0.016123</td>\n",
       "      <td>0.131782</td>\n",
       "      <td>0.021328</td>\n",
       "      <td>-0.125286</td>\n",
       "      <td>0.092564</td>\n",
       "    </tr>\n",
       "    <tr>\n",
       "      <th>Valence.</th>\n",
       "      <td>0.137329</td>\n",
       "      <td>-0.011586</td>\n",
       "      <td>0.438820</td>\n",
       "      <td>0.172829</td>\n",
       "      <td>0.237614</td>\n",
       "      <td>0.016123</td>\n",
       "      <td>1.000000</td>\n",
       "      <td>-0.017782</td>\n",
       "      <td>-0.052323</td>\n",
       "      <td>-0.053242</td>\n",
       "      <td>-0.317752</td>\n",
       "    </tr>\n",
       "    <tr>\n",
       "      <th>Length.</th>\n",
       "      <td>-0.065844</td>\n",
       "      <td>-0.139288</td>\n",
       "      <td>0.224677</td>\n",
       "      <td>-0.000185</td>\n",
       "      <td>0.219219</td>\n",
       "      <td>0.131782</td>\n",
       "      <td>-0.017782</td>\n",
       "      <td>1.000000</td>\n",
       "      <td>-0.076293</td>\n",
       "      <td>0.046755</td>\n",
       "      <td>-0.087639</td>\n",
       "    </tr>\n",
       "    <tr>\n",
       "      <th>Acousticness..</th>\n",
       "      <td>-0.015993</td>\n",
       "      <td>-0.031450</td>\n",
       "      <td>-0.339892</td>\n",
       "      <td>-0.098165</td>\n",
       "      <td>-0.138300</td>\n",
       "      <td>0.021328</td>\n",
       "      <td>-0.052323</td>\n",
       "      <td>-0.076293</td>\n",
       "      <td>1.000000</td>\n",
       "      <td>0.008293</td>\n",
       "      <td>-0.034684</td>\n",
       "    </tr>\n",
       "    <tr>\n",
       "      <th>Speechiness.</th>\n",
       "      <td>-0.257506</td>\n",
       "      <td>0.557052</td>\n",
       "      <td>-0.089860</td>\n",
       "      <td>-0.103472</td>\n",
       "      <td>-0.272213</td>\n",
       "      <td>-0.125286</td>\n",
       "      <td>-0.053242</td>\n",
       "      <td>0.046755</td>\n",
       "      <td>0.008293</td>\n",
       "      <td>1.000000</td>\n",
       "      <td>0.238553</td>\n",
       "    </tr>\n",
       "    <tr>\n",
       "      <th>Popularity</th>\n",
       "      <td>-0.160680</td>\n",
       "      <td>0.196097</td>\n",
       "      <td>-0.080295</td>\n",
       "      <td>-0.071413</td>\n",
       "      <td>-0.043085</td>\n",
       "      <td>0.092564</td>\n",
       "      <td>-0.317752</td>\n",
       "      <td>-0.087639</td>\n",
       "      <td>-0.034684</td>\n",
       "      <td>0.238553</td>\n",
       "      <td>1.000000</td>\n",
       "    </tr>\n",
       "  </tbody>\n",
       "</table>\n",
       "</div>"
      ],
      "text/plain": [
       "                  Unnamed: 0  Beats.Per.Minute    Energy  Danceability  \\\n",
       "Unnamed: 0          1.000000         -0.259193  0.102649      0.122691   \n",
       "Beats.Per.Minute   -0.259193          1.000000  0.043756     -0.094183   \n",
       "Energy              0.102649          0.043756  1.000000      0.018254   \n",
       "Danceability        0.122691         -0.094183  0.018254      1.000000   \n",
       "Loudness..dB..      0.011914          0.017016  0.670794      0.016255   \n",
       "Liveness            0.270659         -0.167286  0.162768     -0.149636   \n",
       "Valence.            0.137329         -0.011586  0.438820      0.172829   \n",
       "Length.            -0.065844         -0.139288  0.224677     -0.000185   \n",
       "Acousticness..     -0.015993         -0.031450 -0.339892     -0.098165   \n",
       "Speechiness.       -0.257506          0.557052 -0.089860     -0.103472   \n",
       "Popularity         -0.160680          0.196097 -0.080295     -0.071413   \n",
       "\n",
       "                  Loudness..dB..  Liveness  Valence.   Length.  \\\n",
       "Unnamed: 0              0.011914  0.270659  0.137329 -0.065844   \n",
       "Beats.Per.Minute        0.017016 -0.167286 -0.011586 -0.139288   \n",
       "Energy                  0.670794  0.162768  0.438820  0.224677   \n",
       "Danceability            0.016255 -0.149636  0.172829 -0.000185   \n",
       "Loudness..dB..          1.000000  0.258652  0.237614  0.219219   \n",
       "Liveness                0.258652  1.000000  0.016123  0.131782   \n",
       "Valence.                0.237614  0.016123  1.000000 -0.017782   \n",
       "Length.                 0.219219  0.131782 -0.017782  1.000000   \n",
       "Acousticness..         -0.138300  0.021328 -0.052323 -0.076293   \n",
       "Speechiness.           -0.272213 -0.125286 -0.053242  0.046755   \n",
       "Popularity             -0.043085  0.092564 -0.317752 -0.087639   \n",
       "\n",
       "                  Acousticness..  Speechiness.  Popularity  \n",
       "Unnamed: 0             -0.015993     -0.257506   -0.160680  \n",
       "Beats.Per.Minute       -0.031450      0.557052    0.196097  \n",
       "Energy                 -0.339892     -0.089860   -0.080295  \n",
       "Danceability           -0.098165     -0.103472   -0.071413  \n",
       "Loudness..dB..         -0.138300     -0.272213   -0.043085  \n",
       "Liveness                0.021328     -0.125286    0.092564  \n",
       "Valence.               -0.052323     -0.053242   -0.317752  \n",
       "Length.                -0.076293      0.046755   -0.087639  \n",
       "Acousticness..          1.000000      0.008293   -0.034684  \n",
       "Speechiness.            0.008293      1.000000    0.238553  \n",
       "Popularity             -0.034684      0.238553    1.000000  "
      ]
     },
     "execution_count": 25,
     "metadata": {},
     "output_type": "execute_result"
    }
   ],
   "source": [
    "data2.corr()"
   ]
  },
  {
   "cell_type": "markdown",
   "metadata": {},
   "source": [
    "### Scaling pra ver se melhora o score"
   ]
  },
  {
   "cell_type": "code",
   "execution_count": 26,
   "metadata": {},
   "outputs": [],
   "source": [
    "from sklearn.preprocessing import StandardScaler\n",
    "scaler = StandardScaler()"
   ]
  },
  {
   "cell_type": "code",
   "execution_count": 27,
   "metadata": {},
   "outputs": [],
   "source": [
    "X = scaler.fit_transform(X)"
   ]
  },
  {
   "cell_type": "code",
   "execution_count": 28,
   "metadata": {},
   "outputs": [
    {
     "name": "stdout",
     "output_type": "stream",
     "text": [
      "Mean Accuracy: 0.5007272727272727\n",
      "Mean Accuracy: 0.49178571428571427\n",
      "Mean Accuracy: 0.4842105263157895\n",
      "Mean Accuracy: 0.476551724137931\n",
      "Mean Accuracy: 0.4691525423728814\n",
      "Mean Accuracy: 0.4623333333333333\n",
      "Mean Accuracy: 0.4557377049180328\n",
      "Mean Accuracy: 0.44935483870967735\n",
      "Mean Accuracy: 0.44349206349206344\n",
      "Mean Accuracy: 0.4378125\n",
      "Mean Accuracy: 0.4323076923076923\n",
      "Mean Accuracy: 0.426969696969697\n",
      "Mean Accuracy: 0.422089552238806\n",
      "Mean Accuracy: 0.4176470588235295\n",
      "Mean Accuracy: 0.4130434782608696\n",
      "Mean Accuracy: 0.4088571428571429\n",
      "Mean Accuracy: 0.4047887323943662\n",
      "Mean Accuracy: 0.4005555555555555\n",
      "Mean Accuracy: 0.39643835616438355\n",
      "Mean Accuracy: 0.39216216216216215\n",
      "Mean Accuracy: 0.388\n",
      "Mean Accuracy: 0.38394736842105265\n",
      "Mean Accuracy: 0.37974025974025977\n",
      "Mean Accuracy: 0.3758974358974359\n",
      "Mean Accuracy: 0.3721518987341772\n",
      "Mean Accuracy: 0.3685\n",
      "Mean Accuracy: 0.3649382716049383\n"
     ]
    }
   ],
   "source": [
    "l_results = run(X, y)"
   ]
  },
  {
   "cell_type": "markdown",
   "metadata": {},
   "source": [
    "## Piorou :/"
   ]
  },
  {
   "cell_type": "markdown",
   "metadata": {},
   "source": []
  },
  {
   "cell_type": "code",
   "execution_count": null,
   "metadata": {},
   "outputs": [],
   "source": []
  },
  {
   "cell_type": "code",
   "execution_count": null,
   "metadata": {},
   "outputs": [],
   "source": []
  },
  {
   "cell_type": "code",
   "execution_count": null,
   "metadata": {},
   "outputs": [],
   "source": []
  }
 ],
 "metadata": {
  "kernelspec": {
   "display_name": "Python 3 (ipykernel)",
   "language": "python",
   "name": "python3"
  },
  "language_info": {
   "codemirror_mode": {
    "name": "ipython",
    "version": 3
   },
   "file_extension": ".py",
   "mimetype": "text/x-python",
   "name": "python",
   "nbconvert_exporter": "python",
   "pygments_lexer": "ipython3",
   "version": "3.6.9"
  }
 },
 "nbformat": 4,
 "nbformat_minor": 4
}
