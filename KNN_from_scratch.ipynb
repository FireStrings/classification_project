{
 "cells": [
  {
   "cell_type": "code",
   "execution_count": 2,
   "metadata": {},
   "outputs": [],
   "source": [
    "import numpy as np\n",
    "import seaborn as sns\n",
    "import pandas as pd"
   ]
  },
  {
   "cell_type": "code",
   "execution_count": 14,
   "metadata": {},
   "outputs": [],
   "source": [
    "n, p = 100, .5\n",
    "s1 = np.random.binomial(n, p, 1000)\n",
    "s2 = np.random.binomial(n, p, 10)\n",
    "p = np.random.chisquare(10,10)"
   ]
  },
  {
   "cell_type": "code",
   "execution_count": 15,
   "metadata": {},
   "outputs": [
    {
     "data": {
      "text/plain": [
       "array([1, 1, 2, 2, 0, 2, 3])"
      ]
     },
     "execution_count": 15,
     "metadata": {},
     "output_type": "execute_result"
    }
   ],
   "source": [
    "np.argsort(s1)\n",
    "np.bincount([0, 1, 2, 2, 3, 3 , 5, 5, 6, 6, 6])\n",
    "# np.argmax()"
   ]
  },
  {
   "cell_type": "code",
   "execution_count": 16,
   "metadata": {},
   "outputs": [
    {
     "data": {
      "text/plain": [
       "<AxesSubplot:ylabel='Count'>"
      ]
     },
     "execution_count": 16,
     "metadata": {},
     "output_type": "execute_result"
    },
    {
     "data": {
      "image/png": "[encoded data removed]",
      "text/plain": [
       "<Figure size 432x288 with 1 Axes>"
      ]
     },
     "metadata": {
      "needs_background": "light"
     },
     "output_type": "display_data"
    }
   ],
   "source": [
    "sns.histplot(data=s1)"
   ]
  },
  {
   "cell_type": "code",
   "execution_count": 27,
   "metadata": {},
   "outputs": [],
   "source": [
    "class KNN:\n",
    "    def __init__(self, k=3):\n",
    "        self.k = k\n",
    "    \n",
    "    def fit(self, X, y):\n",
    "        self.X_train = X\n",
    "        self.y_train = y\n",
    "    \n",
    "    def predict(self, X_test):\n",
    "        y_pred = [self._get_single_prediction(x_test_row) for x_test_row in X_test]\n",
    "#         print(y_pred)\n",
    "#         print(len(y_pred))\n",
    "#         print(\"\\n\")\n",
    "        return np.array(y_pred)\n",
    "\n",
    "    def _get_single_prediction(self, x_test_row):\n",
    "        \n",
    "        distances = [self._get_euclidean_distance(x_test_row, x_train_row) \n",
    "                 for x_train_row in self.X_train]\n",
    "        \n",
    "        k_idx = np.argsort(distances)[:self.k]\n",
    "#         print(k_idx)\n",
    "        k_labels = [self.y_train[idx] for idx in k_idx]\n",
    "#         print([distances[idx] for idx in k_idx])\n",
    "#         print(k_labels)\n",
    "#         print(np.bincount(k_labels))\n",
    "#         print(np.argmax(np.bincount(k_labels)))\n",
    "        \n",
    "        return np.argmax(np.bincount(k_labels))\n",
    "\n",
    "    def _get_euclidean_distance(self, x1, x2):\n",
    "        dist = np.sum((x1 - x2)**2)\n",
    "        return np.sqrt(dist)"
   ]
  },
  {
   "cell_type": "code",
   "execution_count": 28,
   "metadata": {},
   "outputs": [
    {
     "name": "stdout",
     "output_type": "stream",
     "text": [
      "Mean Accuracy: 0.9600000000000002\n",
      "Mean Accuracy: 0.9566666666666667\n",
      "Mean Accuracy: 0.9555555555555556\n",
      "Mean Accuracy: 0.9549999999999997\n",
      "Mean Accuracy: 0.956\n",
      "Mean Accuracy: 0.9577777777777777\n",
      "Mean Accuracy: 0.9590476190476191\n",
      "Mean Accuracy: 0.96\n",
      "Mean Accuracy: 0.9607407407407408\n",
      "Mean Accuracy: 0.9613333333333334\n",
      "Mean Accuracy: 0.9618181818181819\n",
      "Mean Accuracy: 0.9616666666666668\n",
      "Mean Accuracy: 0.9615384615384616\n",
      "Mean Accuracy: 0.9609523809523809\n",
      "Mean Accuracy: 0.9608888888888888\n",
      "Mean Accuracy: 0.9608333333333334\n",
      "Mean Accuracy: 0.9607843137254902\n",
      "Mean Accuracy: 0.9607407407407408\n",
      "Mean Accuracy: 0.960701754385965\n",
      "Mean Accuracy: 0.9610000000000002\n",
      "Mean Accuracy: 0.960952380952381\n",
      "Mean Accuracy: 0.9603030303030303\n",
      "Mean Accuracy: 0.9597101449275363\n",
      "Mean Accuracy: 0.9591666666666667\n",
      "Mean Accuracy: 0.9586666666666669\n",
      "Mean Accuracy: 0.9579487179487179\n",
      "Mean Accuracy: 0.9570370370370371\n"
     ]
    }
   ],
   "source": [
    "from sklearn import datasets\n",
    "from sklearn.model_selection import KFold\n",
    "\n",
    "def accuracy(y_true, y_pred):\n",
    "    accuracy = np.sum(y_true == y_pred) / len(y_true)\n",
    "    return accuracy\n",
    "\n",
    "iris = datasets.load_iris()\n",
    "X, y = iris.data, iris.target\n",
    "\n",
    "scores = []\n",
    "cv = KFold(n_splits=5, shuffle=True, random_state=1)\n",
    "\n",
    "#Elbow method\n",
    "l_results = []\n",
    "for i in range(3, 30, 1): \n",
    "    \n",
    "    for fold, (idx_train, idx_valid) in enumerate(cv.split(X)):\n",
    "\n",
    "        X_train, y_train = X[idx_train], y[idx_train]\n",
    "        X_valid, y_valid = X[idx_valid], y[idx_valid]\n",
    "\n",
    "        k = i\n",
    "        clf = KNN(k=k)\n",
    "        clf.fit(X_train, y_train)\n",
    "        predictions = clf.predict(X_valid)\n",
    "\n",
    "        score = accuracy(y_valid, predictions)\n",
    "        scores.append(score)\n",
    "    \n",
    "    m_score = np.mean(scores)\n",
    "    l_results.append([i, m_score])\n",
    "    print(f\"Mean Accuracy: {m_score}\")\n"
   ]
  },
  {
   "cell_type": "code",
   "execution_count": 29,
   "metadata": {},
   "outputs": [],
   "source": [
    "resultado = pd.DataFrame(l_results, columns=['nK','score'])"
   ]
  },
  {
   "cell_type": "code",
   "execution_count": 32,
   "metadata": {},
   "outputs": [
    {
     "data": {
      "text/plain": [
       "<AxesSubplot:>"
      ]
     },
     "execution_count": 32,
     "metadata": {},
     "output_type": "execute_result"
    },
    {
     "data": {
      "image/png": "[encoded data removed]",
      "text/plain": [
       "<Figure size 432x288 with 1 Axes>"
      ]
     },
     "metadata": {
      "needs_background": "light"
     },
     "output_type": "display_data"
    }
   ],
   "source": [
    "resultado.score.plot(xticks=resultado.nK)"
   ]
  },
  {
   "cell_type": "code",
   "execution_count": 273,
   "metadata": {},
   "outputs": [],
   "source": [
    "data = pd.DataFrame(X, columns=[\"feat1\", \"feat2\", \"feat3\", \"feat4\"])"
   ]
  },
  {
   "cell_type": "code",
   "execution_count": 277,
   "metadata": {},
   "outputs": [],
   "source": [
    "data[\"target\"] = y"
   ]
  },
  {
   "cell_type": "code",
   "execution_count": 286,
   "metadata": {},
   "outputs": [
    {
     "data": {
      "text/html": [
       "<div>\n",
       "<style scoped>\n",
       "    .dataframe tbody tr th:only-of-type {\n",
       "        vertical-align: middle;\n",
       "    }\n",
       "\n",
       "    .dataframe tbody tr th {\n",
       "        vertical-align: top;\n",
       "    }\n",
       "\n",
       "    .dataframe thead th {\n",
       "        text-align: right;\n",
       "    }\n",
       "</style>\n",
       "<table border=\"1\" class=\"dataframe\">\n",
       "  <thead>\n",
       "    <tr style=\"text-align: right;\">\n",
       "      <th></th>\n",
       "      <th>feat1</th>\n",
       "      <th>feat2</th>\n",
       "      <th>feat3</th>\n",
       "      <th>feat4</th>\n",
       "      <th>target</th>\n",
       "    </tr>\n",
       "  </thead>\n",
       "  <tbody>\n",
       "    <tr>\n",
       "      <th>0</th>\n",
       "      <td>5.1</td>\n",
       "      <td>3.5</td>\n",
       "      <td>1.4</td>\n",
       "      <td>0.2</td>\n",
       "      <td>0</td>\n",
       "    </tr>\n",
       "    <tr>\n",
       "      <th>1</th>\n",
       "      <td>4.9</td>\n",
       "      <td>3.0</td>\n",
       "      <td>1.4</td>\n",
       "      <td>0.2</td>\n",
       "      <td>0</td>\n",
       "    </tr>\n",
       "    <tr>\n",
       "      <th>2</th>\n",
       "      <td>4.7</td>\n",
       "      <td>3.2</td>\n",
       "      <td>1.3</td>\n",
       "      <td>0.2</td>\n",
       "      <td>0</td>\n",
       "    </tr>\n",
       "    <tr>\n",
       "      <th>3</th>\n",
       "      <td>4.6</td>\n",
       "      <td>3.1</td>\n",
       "      <td>1.5</td>\n",
       "      <td>0.2</td>\n",
       "      <td>0</td>\n",
       "    </tr>\n",
       "    <tr>\n",
       "      <th>4</th>\n",
       "      <td>5.0</td>\n",
       "      <td>3.6</td>\n",
       "      <td>1.4</td>\n",
       "      <td>0.2</td>\n",
       "      <td>0</td>\n",
       "    </tr>\n",
       "  </tbody>\n",
       "</table>\n",
       "</div>"
      ],
      "text/plain": [
       "   feat1  feat2  feat3  feat4  target\n",
       "0    5.1    3.5    1.4    0.2       0\n",
       "1    4.9    3.0    1.4    0.2       0\n",
       "2    4.7    3.2    1.3    0.2       0\n",
       "3    4.6    3.1    1.5    0.2       0\n",
       "4    5.0    3.6    1.4    0.2       0"
      ]
     },
     "execution_count": 286,
     "metadata": {},
     "output_type": "execute_result"
    }
   ],
   "source": [
    "data.head()"
   ]
  },
  {
   "cell_type": "code",
   "execution_count": 294,
   "metadata": {},
   "outputs": [
    {
     "data": {
      "text/plain": [
       "<AxesSubplot:xlabel='feat2', ylabel='feat4'>"
      ]
     },
     "execution_count": 294,
     "metadata": {},
     "output_type": "execute_result"
    },
    {
     "data": {
      "image/png": "[encoded data removed]",
      "text/plain": [
       "<Figure size 432x288 with 1 Axes>"
      ]
     },
     "metadata": {
      "needs_background": "light"
     },
     "output_type": "display_data"
    }
   ],
   "source": [
    "sns.scatterplot(data=data, x=\"feat2\", y=\"feat4\", hue=\"target\")"
   ]
  },
  {
   "cell_type": "code",
   "execution_count": null,
   "metadata": {},
   "outputs": [],
   "source": []
  }
 ],
 "metadata": {
  "kernelspec": {
   "display_name": "Python 3 (ipykernel)",
   "language": "python",
   "name": "python3"
  },
  "language_info": {
   "codemirror_mode": {
    "name": "ipython",
    "version": 3
   },
   "file_extension": ".py",
   "mimetype": "text/x-python",
   "name": "python",
   "nbconvert_exporter": "python",
   "pygments_lexer": "ipython3",
   "version": "3.6.9"
  }
 },
 "nbformat": 4,
 "nbformat_minor": 4
}
